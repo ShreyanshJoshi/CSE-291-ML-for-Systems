{
 "cells": [
  {
   "cell_type": "code",
   "execution_count": 3,
   "id": "7c6419a0",
   "metadata": {},
   "outputs": [],
   "source": [
    "import json\n",
    "import pymysql\n",
    "from collections import defaultdict"
   ]
  },
  {
   "cell_type": "code",
   "execution_count": 16,
   "id": "d80f4306",
   "metadata": {},
   "outputs": [],
   "source": [
    "# dbs = ['advising']\n",
    "dbs = ['advising', 'atis', 'geography', 'restaurants', 'imdb', 'car_1', 'student_1', 'inn_1', 'formula_1']"
   ]
  },
  {
   "cell_type": "code",
   "execution_count": 19,
   "id": "8cb9b9d4",
   "metadata": {},
   "outputs": [
    {
     "name": "stdout",
     "output_type": "stream",
     "text": [
      "defaultdict(<class 'dict'>, {'advising': {'AREA': 76, 'COMMENT_INSTRUCTOR': 0, 'COURSE': 11453, 'COURSE_OFFERING': 151754, 'COURSE_PREREQUISITE': 43, 'COURSE_TAGS_COUNT': 0, 'GSI': 0, 'INSTRUCTOR': 9443, 'OFFERING_INSTRUCTOR': 159612, 'PROGRAM': 1, 'PROGRAM_COURSE': 39, 'PROGRAM_REQUIREMENT': 4, 'SEMESTER': 74, 'STUDENT': 11, 'STUDENT_RECORD': 86}, 'atis': {'aircraft': 43, 'airline': 46, 'airport': 52, 'airport_service': 64, 'city': 46, 'class_of_service': 19, 'code_description': 7, 'compartment_class': 6, 'date_day': 2557, 'days': 233, 'dual_carrier': 23, 'equipment_sequence': 952, 'fare': 16252, 'fare_basis': 60, 'flight': 23457, 'flight_fare': 67230, 'flight_leg': 37021, 'flight_stop': 13564, 'food_service': 374, 'ground_service': 168, 'month': 12, 'restriction': 14, 'state': 26, 'time_interval': 13, 'time_zone': 4}, 'geography': {'border_info': 218, 'city': 386, 'highlow': 51, 'lake': 32, 'mountain': 50, 'river': 149, 'state': 51}, 'restaurants': {'GEOGRAPHIC': 167, 'LOCATION': 9539, 'RESTAURANT': 9589}, 'imdb': {'actor': 2271923, 'cast': 9622097, 'classification': 2246259, 'company': 320874, 'copyright': 1242940, 'directed_by': 4882181, 'director': 590609, 'genre': 32, 'keyword': 175989, 'made_by': 6508714, 'movie': 1227117, 'producer': 993528, 'tags': 5001972, 'tv_series': 136045, 'writer': 764197, 'written_by': 4162901}, 'car_1': {'car_makers': 23, 'car_names': 406, 'cars_data': 406, 'continents': 5, 'countries': 15, 'model_list': 36}, 'student_1': {'list': 121, 'teachers': 25}, 'inn_1': {'Reservations': 600, 'Rooms': 21}, 'formula_1': {'circuits': 73, 'constructors': 208, 'constructorStandings': 11896, 'drivers': 842, 'races': 997, 'seasons': 69, 'status': 134}})\n"
     ]
    }
   ],
   "source": [
    "table_sizes = defaultdict(dict)\n",
    "for i, db in enumerate(dbs):\n",
    "    connection = pymysql.connect(\n",
    "        host='localhost',\n",
    "        user='root',\n",
    "        password='',\n",
    "        database=db\n",
    "    )\n",
    "    \n",
    "    cursor = connection.cursor()\n",
    "        \n",
    "    cursor.execute(\"SHOW tables;\")\n",
    "    cursor.connection.commit()\n",
    "    \n",
    "    tables = cursor.fetchall()\n",
    "    tables = [table[0] for table in tables]\n",
    "    \n",
    "    for table in tables:\n",
    "        \n",
    "        cursor.execute(f'SELECT COUNT(*) FROM {table};')\n",
    "        cursor.connection.commit()\n",
    "        \n",
    "        size = cursor.fetchall()[0][0]\n",
    "        \n",
    "        table_sizes[db][table] = size\n",
    "print(table_sizes)"
   ]
  },
  {
   "cell_type": "code",
   "execution_count": 22,
   "id": "2c3f1ecb",
   "metadata": {},
   "outputs": [],
   "source": [
    "file_name = './data/table_sizes.json'\n",
    "\n",
    "with open(file_name, 'w') as json_file:\n",
    "    json.dump(table_sizes, json_file, indent=4)"
   ]
  },
  {
   "cell_type": "code",
   "execution_count": 23,
   "id": "bf4ab44f",
   "metadata": {},
   "outputs": [
    {
     "name": "stdout",
     "output_type": "stream",
     "text": [
      "Loaded dictionary: {'advising': {'AREA': 76, 'COMMENT_INSTRUCTOR': 0, 'COURSE': 11453, 'COURSE_OFFERING': 151754, 'COURSE_PREREQUISITE': 43, 'COURSE_TAGS_COUNT': 0, 'GSI': 0, 'INSTRUCTOR': 9443, 'OFFERING_INSTRUCTOR': 159612, 'PROGRAM': 1, 'PROGRAM_COURSE': 39, 'PROGRAM_REQUIREMENT': 4, 'SEMESTER': 74, 'STUDENT': 11, 'STUDENT_RECORD': 86}, 'atis': {'aircraft': 43, 'airline': 46, 'airport': 52, 'airport_service': 64, 'city': 46, 'class_of_service': 19, 'code_description': 7, 'compartment_class': 6, 'date_day': 2557, 'days': 233, 'dual_carrier': 23, 'equipment_sequence': 952, 'fare': 16252, 'fare_basis': 60, 'flight': 23457, 'flight_fare': 67230, 'flight_leg': 37021, 'flight_stop': 13564, 'food_service': 374, 'ground_service': 168, 'month': 12, 'restriction': 14, 'state': 26, 'time_interval': 13, 'time_zone': 4}, 'geography': {'border_info': 218, 'city': 386, 'highlow': 51, 'lake': 32, 'mountain': 50, 'river': 149, 'state': 51}, 'restaurants': {'GEOGRAPHIC': 167, 'LOCATION': 9539, 'RESTAURANT': 9589}, 'imdb': {'actor': 2271923, 'cast': 9622097, 'classification': 2246259, 'company': 320874, 'copyright': 1242940, 'directed_by': 4882181, 'director': 590609, 'genre': 32, 'keyword': 175989, 'made_by': 6508714, 'movie': 1227117, 'producer': 993528, 'tags': 5001972, 'tv_series': 136045, 'writer': 764197, 'written_by': 4162901}, 'car_1': {'car_makers': 23, 'car_names': 406, 'cars_data': 406, 'continents': 5, 'countries': 15, 'model_list': 36}, 'student_1': {'list': 121, 'teachers': 25}, 'inn_1': {'Reservations': 600, 'Rooms': 21}, 'formula_1': {'circuits': 73, 'constructors': 208, 'constructorStandings': 11896, 'drivers': 842, 'races': 997, 'seasons': 69, 'status': 134}}\n"
     ]
    }
   ],
   "source": [
    "# with open(file_name, 'r') as json_file:\n",
    "#     loaded_dict = json.load(json_file)\n",
    "\n",
    "# print(\"Loaded dictionary:\", loaded_dict)"
   ]
  },
  {
   "cell_type": "code",
   "execution_count": null,
   "id": "fbfe2ccf",
   "metadata": {},
   "outputs": [],
   "source": []
  }
 ],
 "metadata": {
  "kernelspec": {
   "display_name": "Python 3 (ipykernel)",
   "language": "python",
   "name": "python3"
  },
  "language_info": {
   "codemirror_mode": {
    "name": "ipython",
    "version": 3
   },
   "file_extension": ".py",
   "mimetype": "text/x-python",
   "name": "python",
   "nbconvert_exporter": "python",
   "pygments_lexer": "ipython3",
   "version": "3.11.5"
  }
 },
 "nbformat": 4,
 "nbformat_minor": 5
}
