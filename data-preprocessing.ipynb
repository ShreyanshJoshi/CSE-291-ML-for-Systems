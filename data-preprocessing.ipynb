{
 "cells": [
  {
   "cell_type": "code",
   "execution_count": 40,
   "metadata": {},
   "outputs": [],
   "source": [
    "import json\n",
    "import csv\n",
    "import pymysql\n",
    "import time\n",
    "\n",
    "from collections import defaultdict"
   ]
  },
  {
   "cell_type": "markdown",
   "metadata": {},
   "source": [
    "### Extracting queries"
   ]
  },
  {
   "cell_type": "code",
   "execution_count": 94,
   "metadata": {},
   "outputs": [],
   "source": [
    "dbs = ['car_1', 'wine_1', 'student_1', 'inn_1', 'flight_1', 'formula_1']\n",
    "curr = \"formula_1\"\n",
    "\n",
    "def get_queries(database):\n",
    "    # Open the JSON file and load its contents\n",
    "    with open(database, \"r\") as file:\n",
    "        data = json.load(file)\n",
    "\n",
    "    query_list = []\n",
    "    temp = []\n",
    "    for i in range(len(data)):\n",
    "        variables = data[i]['variables']\n",
    "        sql_queries = data[i]['sql']\n",
    "\n",
    "        # replacing each occurrence of a particular variable in any of the queries\n",
    "        for p, sql_query in enumerate(sql_queries):\n",
    "            sql_queries[p] = sql_query\n",
    "            for var in variables:\n",
    "                sql_queries[p] = sql_queries[p].replace(var['name'], var['example'])\n",
    "            if data[i][\"sentences\"][0][\"database\"] == curr:\n",
    "                query_list.append(sql_queries[p])\n",
    "                temp.append(data[i][\"sentences\"][0][\"database\"])\n",
    "\n",
    "\n",
    "    \n",
    "    cnt = defaultdict(int)\n",
    "    for i in range(len(temp)):\n",
    "        cnt[temp[i]] += 1\n",
    "\n",
    "    print(cnt)\n",
    "    return query_list"
   ]
  },
  {
   "cell_type": "code",
   "execution_count": 95,
   "metadata": {},
   "outputs": [
    {
     "name": "stdout",
     "output_type": "stream",
     "text": [
      "defaultdict(<class 'int'>, {'formula_1': 40})\n",
      "defaultdict(<class 'int'>, {'formula_1': 40})\n",
      "40\n"
     ]
    }
   ],
   "source": [
    "all_queries = []\n",
    "\n",
    "# all_queries.extend(get_queries(\"./atis.json\"))\n",
    "queries = dict()\n",
    "\n",
    "import os\n",
    "for filename in os.listdir('.'):\n",
    "    if filename.endswith('spider.json'):\n",
    "        all_queries.extend(get_queries(f'./{filename}'))\n",
    "        queries[filename] = get_queries(f'./{filename}')\n",
    "\n",
    "        \n",
    "\n",
    "print(len(all_queries))"
   ]
  },
  {
   "cell_type": "code",
   "execution_count": 96,
   "metadata": {},
   "outputs": [
    {
     "name": "stdout",
     "output_type": "stream",
     "text": [
      "spider.json: 40\n"
     ]
    }
   ],
   "source": [
    "len(all_queries)\n",
    "for filename in os.listdir('.'):\n",
    "    if filename.endswith('spider.json'):\n",
    "        print(f'{filename}: {len(queries[filename])}')"
   ]
  },
  {
   "cell_type": "code",
   "execution_count": 97,
   "metadata": {},
   "outputs": [
    {
     "name": "stdout",
     "output_type": "stream",
     "text": [
      "{'battle_death', 'flight_2', 'movie_1', 'manufactory_1', 'academic', 'world_1', 'coffee_shop', 'customers_and_products_contacts', 'mountain_photos', 'cre_Doc_Control_Systems', 'customer_deliveries', 'activity_1', 'workshop_paper', 'city_record', 'formula_1', 'local_govt_and_lot', 'swimming', 'network_1', 'hospital_1', 'sakila_1', 'music_4', 'protein_institute', 'climbing', 'train_station', 'entertainment_awards', 'farm', 'dog_kennels', 'county_public_safety', 'customers_campaigns_ecommerce', 'geo', 'entrepreneur', 'behavior_monitoring', 'candidate_poll', 'flight_company', 'pilot_record', 'phone_1', 'soccer_1', 'flight_1', 'performance_attendance', 'school_player', 'storm_record', 'e_government', 'school_finance', 'restaurant_1', 'network_2', 'wta_1', 'college_2', 'school_bus', 'product_catalog', 'dorm_1', 'club_1', 'employee_hire_evaluation', 'customers_card_transactions', 'csu_1', 'ship_1', 'roller_coaster', 'cre_Doc_Template_Mgt', 'cre_Doc_Tracking_DB', 'customer_complaints', 'local_govt_in_alabama', 'phone_market', 'culture_company', 'concert_singer', 'music_1', 'flight_4', 'voter_1', 'college_1', 'hr_1', 'match_season', 'machine_repair', 'news_report', 'cre_Theme_park', 'wedding', 'college_3', 'perpetrator', 'allergy_1', 'customers_and_invoices', 'debate', 'book_2', 'medicine_enzyme_interaction', 'department_store', 'film_rank', 'tracking_share_transactions', 'yelp', 'shop_membership', 'musical', 'race_track', 'student_assessment', 'department_management', 'restaurants', 'orchestra', 'tracking_software_problems', 'scholar', 'wine_1', 'browser_web', 'insurance_fnol', 'twitter_1', 'document_management', 'cinema', 'museum_visit', 'cre_Docs_and_Epenses', 'loan_1', 'poker_player', 'singer', 'university_basketball', 'insurance_policies', 'assets_maintenance', 'pets_1', 'architecture', 'insurance_and_eClaims', 'railway', 'game_1', 'chinook_1', 'store_product', 'student_transcripts_tracking', 'company_employee', 'products_for_hire', 'gas_company', 'icfp_1', 'game_injury', 'journal_committee', 'customers_and_addresses', 'manufacturer', 'gymnast', 'wrestler', 'epinions_1', 'theme_gallery', 'body_builder', 'imdb', 'small_bank_1', 'tracking_orders', 'sports_competition', 'real_estate_properties', 'aircraft', 'riding_club', 'products_gen_characteristics', 'solvency_ii', 'company_1', 'decoration_competition', 'local_govt_mdm', 'apartment_rentals', 'scientist_1', 'company_office', 'station_weather', 'device', 'voter_2', 'inn_1', 'soccer_2', 'driving_school', 'tracking_grants_for_research', 'car_1', 'cre_Drama_Workshop_Groups', 'baseball_1', 'party_people', 'student_1', 'course_teach', 'election_representative', 'party_host', 'store_1', 'e_learning', 'bike_1', 'election', 'music_2', 'ship_mission', 'program_share', 'tvshow'}\n",
      "166\n"
     ]
    }
   ],
   "source": [
    "s = set()\n",
    "with open('./spider.json', 'r') as f:\n",
    "    data = json.load(f)\n",
    "\n",
    "for i in range(len(data)):\n",
    "    sentences = data[i][\"sentences\"]\n",
    "    for sentence in sentences:\n",
    "        s.add(sentence[\"database\"])\n",
    "\n",
    "print(s)\n",
    "print(len(s))"
   ]
  },
  {
   "cell_type": "code",
   "execution_count": 98,
   "metadata": {},
   "outputs": [],
   "source": [
    "with open('./data.csv', 'w', newline='') as csvfile:\n",
    "    writer = csv.writer(csvfile)\n",
    "    writer.writerow(['query'])\n",
    "    for query in all_queries:\n",
    "        writer.writerow([query])"
   ]
  },
  {
   "cell_type": "markdown",
   "metadata": {},
   "source": [
    "### Obtaining execution time\n",
    "\n",
    "At this point, we have all the queries. Now, we write a script to run the queries one by one and store their execution times in the CSV file."
   ]
  },
  {
   "cell_type": "code",
   "execution_count": 99,
   "metadata": {},
   "outputs": [],
   "source": [
    "# Establish connection to the database\n",
    "# connection = pymysql.connect(\n",
    "#     host='localhost',\n",
    "#     user='root',\n",
    "#     password=''\n",
    "# )\n",
    "\n",
    "import sqlite3\n",
    "sqlite_file = f'/mnt/d/Documents/UCSD/Courses/CSE 291 Virt/temp/data/{curr}.sqlite'\n",
    "\n",
    "connection = sqlite3.connect(sqlite_file)\n",
    "\n",
    "cursor = connection.cursor()"
   ]
  },
  {
   "cell_type": "code",
   "execution_count": 100,
   "metadata": {},
   "outputs": [
    {
     "ename": "OperationalError",
     "evalue": "near \"DATABASE\": syntax error",
     "output_type": "error",
     "traceback": [
      "\u001b[0;31m---------------------------------------------------------------------------\u001b[0m",
      "\u001b[0;31mOperationalError\u001b[0m                          Traceback (most recent call last)",
      "\u001b[0;32m/tmp/ipykernel_1380/3662751665.py\u001b[0m in \u001b[0;36m<module>\u001b[0;34m\u001b[0m\n\u001b[0;32m----> 1\u001b[0;31m \u001b[0mcursor\u001b[0m\u001b[0;34m.\u001b[0m\u001b[0mexecute\u001b[0m\u001b[0;34m(\u001b[0m\u001b[0;34mf'CREATE DATABASE IF NOT EXISTS '\u001b[0m\u001b[0;34m)\u001b[0m\u001b[0;34m\u001b[0m\u001b[0;34m\u001b[0m\u001b[0m\n\u001b[0m",
      "\u001b[0;31mOperationalError\u001b[0m: near \"DATABASE\": syntax error"
     ]
    }
   ],
   "source": [
    "cursor.execute(f'CREATE DATABASE IF NOT EXISTS ')"
   ]
  },
  {
   "cell_type": "code",
   "execution_count": 6,
   "metadata": {},
   "outputs": [
    {
     "ename": "OperationalError",
     "evalue": "near \".\": syntax error",
     "output_type": "error",
     "traceback": [
      "\u001b[0;31m---------------------------------------------------------------------------\u001b[0m",
      "\u001b[0;31mOperationalError\u001b[0m                          Traceback (most recent call last)",
      "\u001b[0;32m/tmp/ipykernel_1380/2968861642.py\u001b[0m in \u001b[0;36m<module>\u001b[0;34m\u001b[0m\n\u001b[0;32m----> 1\u001b[0;31m \u001b[0mcursor\u001b[0m\u001b[0;34m.\u001b[0m\u001b[0mexecute\u001b[0m\u001b[0;34m(\u001b[0m\u001b[0;34m\".tables\"\u001b[0m\u001b[0;34m)\u001b[0m\u001b[0;34m\u001b[0m\u001b[0;34m\u001b[0m\u001b[0m\n\u001b[0m\u001b[1;32m      2\u001b[0m \u001b[0mtables\u001b[0m \u001b[0;34m=\u001b[0m \u001b[0mcursor\u001b[0m\u001b[0;34m.\u001b[0m\u001b[0mfetchall\u001b[0m\u001b[0;34m(\u001b[0m\u001b[0;34m)\u001b[0m\u001b[0;34m\u001b[0m\u001b[0;34m\u001b[0m\u001b[0m\n\u001b[1;32m      3\u001b[0m \u001b[0mprint\u001b[0m\u001b[0;34m(\u001b[0m\u001b[0mtables\u001b[0m\u001b[0;34m)\u001b[0m\u001b[0;34m\u001b[0m\u001b[0;34m\u001b[0m\u001b[0m\n",
      "\u001b[0;31mOperationalError\u001b[0m: near \".\": syntax error"
     ]
    }
   ],
   "source": [
    "cursor.execute(\"SHOW TABLES\")\n",
    "tables = cursor.fetchall()\n",
    "print(tables)"
   ]
  },
  {
   "cell_type": "code",
   "execution_count": 101,
   "metadata": {},
   "outputs": [
    {
     "data": {
      "text/plain": [
       "<function Connection.commit()>"
      ]
     },
     "execution_count": 101,
     "metadata": {},
     "output_type": "execute_result"
    }
   ],
   "source": [
    "cursor.connection.commit"
   ]
  },
  {
   "cell_type": "code",
   "execution_count": 103,
   "metadata": {},
   "outputs": [],
   "source": [
    "with open('./data.csv', newline='') as csvfile:\n",
    "    query_reader = csv.reader(csvfile)\n",
    "    rows = list(query_reader)\n",
    "\n",
    "# Add header for the \"running time\" column\n",
    "rows[0].append('running time')\n",
    "\n",
    "for row in rows[1:]:\n",
    "    start_time = time.time()\n",
    "    sql_query = row[0]\n",
    "    cursor.execute(sql_query)\n",
    "    cursor.connection.commit()\n",
    "    end_time = time.time()\n",
    "    running_time = (end_time - start_time) * 1000\n",
    "    row.append(str(running_time) + ' ms')"
   ]
  },
  {
   "cell_type": "code",
   "execution_count": 36,
   "metadata": {},
   "outputs": [],
   "source": [
    "cursor.close()"
   ]
  },
  {
   "cell_type": "code",
   "execution_count": 37,
   "metadata": {},
   "outputs": [],
   "source": [
    "with open('./queries_with_running_time.csv', 'w', newline='') as csvfile:\n",
    "    query_writer = csv.writer(csvfile)\n",
    "    query_writer.writerows(rows)"
   ]
  },
  {
   "cell_type": "code",
   "execution_count": null,
   "metadata": {},
   "outputs": [],
   "source": []
  }
 ],
 "metadata": {
  "kernelspec": {
   "display_name": "sj_env",
   "language": "python",
   "name": "python3"
  },
  "language_info": {
   "codemirror_mode": {
    "name": "ipython",
    "version": 3
   },
   "file_extension": ".py",
   "mimetype": "text/x-python",
   "name": "python",
   "nbconvert_exporter": "python",
   "pygments_lexer": "ipython3",
   "version": "3.10.12"
  }
 },
 "nbformat": 4,
 "nbformat_minor": 2
}
