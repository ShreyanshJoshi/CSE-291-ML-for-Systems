{
 "cells": [
  {
   "cell_type": "code",
   "execution_count": 9,
   "metadata": {},
   "outputs": [],
   "source": [
    "import json\n",
    "import csv\n",
    "import pymysql\n",
    "import sqlite3\n",
    "import time\n",
    "import re\n",
    "from tqdm import tqdm\n",
    "from IPython.display import display\n",
    "import os\n",
    "import signal\n",
    "from collections import defaultdict"
   ]
  },
  {
   "cell_type": "markdown",
   "metadata": {},
   "source": [
    "### Extracting queries"
   ]
  },
  {
   "cell_type": "code",
   "execution_count": 10,
   "metadata": {},
   "outputs": [],
   "source": [
    "sqlite_dbs = ['car_1', 'wine_1', 'student_1', 'inn_1', 'flight_1', 'formula_1', 'restaurants']\n",
    "# sqlite_dbs = ['car_1', 'wine_1', 'student_1', 'inn_1', 'flight_1', 'formula_1']\n",
    "mysql_dbs = ['advising', 'atis', 'geography', 'imdb']\n",
    "\n",
    "independent_dbs = ['advising', 'atis', 'geography', 'restaurants', 'imdb']\n",
    "spider_dbs = set(['car_1', 'wine_1', 'student_1', 'inn_1', 'flight_1', 'formula_1'])\n",
    "\n",
    "json_data_dir = './data/json/'\n",
    "csv_data_dir = './data/csv/'"
   ]
  },
  {
   "cell_type": "code",
   "execution_count": 20,
   "metadata": {},
   "outputs": [],
   "source": [
    "def get_queries(db):\n",
    "    # spider.json contains query for 6 different dbs\n",
    "    spider = False\n",
    "    if db == \"spider\":\n",
    "        spider = True\n",
    "        \n",
    "    queryFile = os.path.join(json_data_dir, f'{db}.json')\n",
    "                             \n",
    "    # Open the JSON file and load its contents\n",
    "    with open(queryFile, \"r\") as file:\n",
    "        data = json.load(file)\n",
    "\n",
    "    query_dict = defaultdict(list)\n",
    "    for d in data:\n",
    "        variables = d['variables']\n",
    "        sql_queries = d['sql']\n",
    "\n",
    "        if spider and d[\"sentences\"][0][\"database\"] not in spider_dbs:\n",
    "            continue\n",
    "\n",
    "        # replacing each occurrence of a particular variable in any of the queries\n",
    "        for sql_query in sql_queries:\n",
    "            query = sql_query\n",
    "            for var in variables:\n",
    "                query = query.replace(var['name'], var['example'])\n",
    "                \n",
    "            if spider:\n",
    "                query = re.sub(r'\\( .+\\.\\* \\)', '( * )', query)\n",
    "                query_dict[d[\"sentences\"][0][\"database\"]].append(query)\n",
    "            else:\n",
    "                query_dict[db].append(query)\n",
    "    \n",
    "    return query_dict"
   ]
  },
  {
   "cell_type": "code",
   "execution_count": 21,
   "metadata": {},
   "outputs": [
    {
     "name": "stdout",
     "output_type": "stream",
     "text": [
      "formula_1 40\n",
      "inn_1 36\n",
      "car_1 45\n",
      "student_1 27\n",
      "flight_1 48\n",
      "wine_1 41\n"
     ]
    }
   ],
   "source": [
    "# Get queries for dbs in spider.json\n",
    "spider_query_dict = get_queries('spider')\n",
    "for db in spider_dbs:\n",
    "    query_list = spider_query_dict[db]\n",
    "    with open(os.path.join(csv_data_dir, f'{db}.csv'), 'w', newline='') as csvfile:\n",
    "        writer = csv.writer(csvfile)\n",
    "        writer.writerow(['query'])\n",
    "        print(db, len(query_list))\n",
    "        for query in query_list:\n",
    "            writer.writerow([query])"
   ]
  },
  {
   "cell_type": "code",
   "execution_count": 22,
   "metadata": {},
   "outputs": [
    {
     "name": "stdout",
     "output_type": "stream",
     "text": [
      "advising 214\n",
      "atis 1134\n",
      "geography 259\n",
      "restaurants 23\n",
      "imdb 99\n"
     ]
    }
   ],
   "source": [
    "# Get queries for independent dbs\n",
    "for db in independent_dbs:\n",
    "    query_list = get_queries(db)[db]\n",
    "    with open(os.path.join(csv_data_dir, f'{db}.csv'), 'w', newline='') as csvfile:\n",
    "        writer = csv.writer(csvfile)\n",
    "        writer.writerow(['query'])\n",
    "        print(db, len(query_list))\n",
    "        for query in query_list:\n",
    "            writer.writerow([query])"
   ]
  },
  {
   "cell_type": "code",
   "execution_count": 10,
   "metadata": {},
   "outputs": [
    {
     "name": "stdout",
     "output_type": "stream",
     "text": [
      "['car_1', 'car_1', 'car_1', 'car_1', 'car_1', 'car_1', 'car_1', 'car_1', 'car_1', 'car_1', 'car_1', 'car_1', 'car_1', 'car_1', 'car_1', 'car_1', 'car_1', 'car_1', 'car_1', 'car_1', 'car_1', 'car_1', 'car_1', 'car_1', 'car_1', 'car_1', 'car_1', 'car_1', 'car_1', 'car_1', 'car_1', 'car_1', 'car_1', 'car_1', 'car_1', 'car_1', 'car_1', 'car_1', 'car_1', 'car_1', 'car_1', 'car_1', 'car_1', 'car_1', 'car_1']\n",
      "defaultdict(<class 'int'>, {'car_1': 45})\n",
      "['car_1', 'car_1', 'car_1', 'car_1', 'car_1', 'car_1', 'car_1', 'car_1', 'car_1', 'car_1', 'car_1', 'car_1', 'car_1', 'car_1', 'car_1', 'car_1', 'car_1', 'car_1', 'car_1', 'car_1', 'car_1', 'car_1', 'car_1', 'car_1', 'car_1', 'car_1', 'car_1', 'car_1', 'car_1', 'car_1', 'car_1', 'car_1', 'car_1', 'car_1', 'car_1', 'car_1', 'car_1', 'car_1', 'car_1', 'car_1', 'car_1', 'car_1', 'car_1', 'car_1', 'car_1']\n",
      "defaultdict(<class 'int'>, {'car_1': 45})\n",
      "45\n"
     ]
    }
   ],
   "source": [
    "all_queries = []\n",
    "\n",
    "# all_queries.extend(get_queries(\"./atis.json\"))\n",
    "queries = dict()\n",
    "\n",
    "import os\n",
    "for filename in os.listdir('./data/json'):\n",
    "    if filename.endswith('spider.json'):\n",
    "        all_queries.extend(get_queries(f'./data/json/{filename}'))\n",
    "        queries[filename] = get_queries(f'./data/json/{filename}')\n",
    "\n",
    "    \n",
    "print(len(all_queries))"
   ]
  },
  {
   "cell_type": "code",
   "execution_count": 14,
   "metadata": {},
   "outputs": [
    {
     "name": "stdout",
     "output_type": "stream",
     "text": [
      "spider.json: 40\n"
     ]
    }
   ],
   "source": [
    "len(all_queries)\n",
    "for filename in os.listdir('.'):\n",
    "    if filename.endswith('spider.json'):\n",
    "        print(f'{filename}: {len(queries[filename])}')"
   ]
  },
  {
   "cell_type": "code",
   "execution_count": 15,
   "metadata": {},
   "outputs": [
    {
     "name": "stdout",
     "output_type": "stream",
     "text": [
      "{'customers_and_addresses', 'manufacturer', 'medicine_enzyme_interaction', 'climbing', 'customers_campaigns_ecommerce', 'geo', 'department_store', 'scholar', 'riding_club', 'device', 'club_1', 'department_management', 'cre_Theme_park', 'wedding', 'behavior_monitoring', 'journal_committee', 'train_station', 'game_injury', 'flight_2', 'product_catalog', 'company_employee', 'county_public_safety', 'phone_market', 'hr_1', 'assets_maintenance', 'sakila_1', 'race_track', 'tracking_orders', 'small_bank_1', 'college_1', 'orchestra', 'hospital_1', 'performance_attendance', 'customer_complaints', 'company_1', 'pets_1', 'tracking_software_problems', 'workshop_paper', 'company_office', 'apartment_rentals', 'machine_repair', 'flight_1', 'music_2', 'customers_card_transactions', 'local_govt_and_lot', 'shop_membership', 'party_people', 'network_1', 'wta_1', 'election', 'document_management', 'poker_player', 'scientist_1', 'museum_visit', 'products_for_hire', 'movie_1', 'news_report', 'game_1', 'school_finance', 'student_assessment', 'insurance_fnol', 'local_govt_mdm', 'allergy_1', 'entrepreneur', 'storm_record', 'phone_1', 'restaurant_1', 'employee_hire_evaluation', 'concert_singer', 'election_representative', 'theme_gallery', 'cre_Docs_and_Epenses', 'singer', 'imdb', 'book_2', 'products_gen_characteristics', 'mountain_photos', 'aircraft', 'insurance_policies', 'school_bus', 'music_1', 'film_rank', 'college_3', 'program_share', 'swimming', 'college_2', 'cre_Drama_Workshop_Groups', 'gymnast', 'local_govt_in_alabama', 'sports_competition', 'voter_2', 'world_1', 'flight_4', 'yelp', 'station_weather', 'icfp_1', 'customers_and_invoices', 'perpetrator', 'gas_company', 'roller_coaster', 'culture_company', 'school_player', 'baseball_1', 'inn_1', 'car_1', 'tracking_grants_for_research', 'architecture', 'party_host', 'customers_and_products_contacts', 'tracking_share_transactions', 'course_teach', 'coffee_shop', 'dog_kennels', 'wrestler', 'musical', 'browser_web', 'entertainment_awards', 'match_season', 'farm', 'loan_1', 'student_transcripts_tracking', 'epinions_1', 'chinook_1', 'e_government', 'university_basketball', 'csu_1', 'real_estate_properties', 'student_1', 'store_product', 'wine_1', 'restaurants', 'soccer_1', 'music_4', 'soccer_2', 'protein_institute', 'flight_company', 'manufactory_1', 'decoration_competition', 'store_1', 'voter_1', 'driving_school', 'tvshow', 'activity_1', 'cre_Doc_Control_Systems', 'dorm_1', 'railway', 'customer_deliveries', 'body_builder', 'debate', 'formula_1', 'twitter_1', 'ship_1', 'cre_Doc_Template_Mgt', 'battle_death', 'bike_1', 'ship_mission', 'network_2', 'insurance_and_eClaims', 'cinema', 'academic', 'cre_Doc_Tracking_DB', 'city_record', 'solvency_ii', 'pilot_record', 'e_learning', 'candidate_poll'}\n",
      "166\n"
     ]
    }
   ],
   "source": [
    "s = set()\n",
    "with open('./spider.json', 'r') as f:\n",
    "    data = json.load(f)\n",
    "\n",
    "for i in range(len(data)):\n",
    "    sentences = data[i][\"sentences\"]\n",
    "    for sentence in sentences:\n",
    "        s.add(sentence[\"database\"])\n",
    "\n",
    "print(s)\n",
    "print(len(s))"
   ]
  },
  {
   "cell_type": "code",
   "execution_count": 4,
   "metadata": {},
   "outputs": [
    {
     "ename": "NameError",
     "evalue": "name 'all_queries' is not defined",
     "output_type": "error",
     "traceback": [
      "\u001b[0;31m---------------------------------------------------------------------------\u001b[0m",
      "\u001b[0;31mNameError\u001b[0m                                 Traceback (most recent call last)",
      "Cell \u001b[0;32mIn[4], line 4\u001b[0m\n\u001b[1;32m      2\u001b[0m writer \u001b[38;5;241m=\u001b[39m csv\u001b[38;5;241m.\u001b[39mwriter(csvfile)\n\u001b[1;32m      3\u001b[0m writer\u001b[38;5;241m.\u001b[39mwriterow([\u001b[38;5;124m'\u001b[39m\u001b[38;5;124mquery\u001b[39m\u001b[38;5;124m'\u001b[39m])\n\u001b[0;32m----> 4\u001b[0m \u001b[38;5;28;01mfor\u001b[39;00m query \u001b[38;5;129;01min\u001b[39;00m all_queries:\n\u001b[1;32m      5\u001b[0m     writer\u001b[38;5;241m.\u001b[39mwriterow([query])\n",
      "\u001b[0;31mNameError\u001b[0m: name 'all_queries' is not defined"
     ]
    }
   ],
   "source": [
    "with open('./data.csv', 'w', newline='') as csvfile:\n",
    "    writer = csv.writer(csvfile)\n",
    "    writer.writerow(['query'])\n",
    "    for query in all_queries:\n",
    "        writer.writerow([query])"
   ]
  },
  {
   "cell_type": "markdown",
   "metadata": {},
   "source": [
    "### Obtaining execution time\n",
    "\n",
    "At this point, we have all the queries. Now, we write a script to run the queries one by one and store their execution times in the CSV file."
   ]
  },
  {
   "cell_type": "code",
   "execution_count": 13,
   "metadata": {},
   "outputs": [],
   "source": [
    "runtime_data_dir = \"./data/runtime\"\n",
    "\n",
    "if not os.path.exists(runtime_data_dir):\n",
    "    os.makedir(runtime_data_dir)"
   ]
  },
  {
   "cell_type": "code",
   "execution_count": 14,
   "metadata": {},
   "outputs": [],
   "source": [
    "# excute sqlite queries\n",
    "with open(os.path.join(runtime_data_dir, f'query-runtime-spider.csv'), 'w', newline='') as outfile:\n",
    "    query_writer = csv.writer(outfile)\n",
    "    \n",
    "    for i, db in enumerate(spider_dbs):\n",
    "        sqlite_file = f'./data/db/{db}.sqlite'\n",
    "\n",
    "        connection = sqlite3.connect(sqlite_file)\n",
    "\n",
    "        cursor = connection.cursor()\n",
    "\n",
    "        with open(os.path.join(csv_data_dir, f'{db}.csv'), newline='') as csvfile:\n",
    "            query_reader = csv.reader(csvfile)\n",
    "            rows = list(query_reader)\n",
    "\n",
    "        # Add header for the \"running time\" column\n",
    "        if i == 0:\n",
    "            rows[0].append('runtime (ms)')\n",
    "            rows[0].append('db')\n",
    "            rows[0].append('engine')\n",
    "            query_writer.writerows(rows[0:1])\n",
    "\n",
    "        for j, row in enumerate(rows[1:]):\n",
    "            start_time = time.time()\n",
    "            sql_query = row[0]\n",
    "            try:\n",
    "                cursor.execute(sql_query)\n",
    "            except:\n",
    "                print(f'Line {j+2}: {sql_query}')\n",
    "                continue\n",
    "            cursor.connection.commit()\n",
    "            end_time = time.time()\n",
    "            running_time = (end_time - start_time) * 1000\n",
    "            row.append(running_time)\n",
    "            row.append(db)\n",
    "            row.append('sqlite')\n",
    "            \n",
    "            cursor.execute(\"PRAGMA cache_size=0;\")\n",
    "            cursor.connection.commit()\n",
    "\n",
    "            query_writer.writerow(row)\n",
    "\n",
    "        cursor.close()\n",
    "        connection.close()"
   ]
  },
  {
   "cell_type": "code",
   "execution_count": 3,
   "metadata": {},
   "outputs": [
    {
     "name": "stdout",
     "output_type": "stream",
     "text": [
      "\u001b[34m==>\u001b[0m \u001b[1mSuccessfully started `mysql` (label: homebrew.mxcl.mysql)\u001b[0m\r\n"
     ]
    }
   ],
   "source": [
    "!brew services start mysql"
   ]
  },
  {
   "cell_type": "code",
   "execution_count": 26,
   "metadata": {},
   "outputs": [
    {
     "name": "stdout",
     "output_type": "stream",
     "text": [
      "Line 40: SELECT DISTINCT FLIGHTalias0.FLIGHT_ID FROM AIRPORT_SERVICE AS AIRPORT_SERVICEalias0 , AIRPORT_SERVICE AS AIRPORT_SERVICEalias1 , CITY AS CITYalias0 , CITY AS CITYalias1 , DATE_DAY AS DATE_DAYalias0 , DATE_DAY AS DATE_DAYalias1 , DAYS AS DAYSalias0 , DAYS AS DAYSalias1 , FLIGHT AS FLIGHTalias0 WHERE ( ( ( ( ( FLIGHTalias0.ARRIVAL_TIME < FLIGHTalias0.DEPARTURE_TIME ) AND DATE_DAYalias0.DAY_NUMBER = 6 AND DATE_DAYalias0.MONTH_NUMBER = 7 AND DATE_DAYalias0.YEAR = 1991 AND DAYSalias0.DAY_NAME = DATE_DAYalias0.DAY_NAME AND FLIGHTalias0.FLIGHT_DAYS = DAYSalias0.DAYS_CODE ) OR FLIGHTalias0.FLIGHT_DAYS = DAYSalias1.DAYS_CODE AND DAYSalias1.DAY_NAME = DATE_DAYalias1.DAY_NAME AND DATE_DAYalias1.YEAR = 1991 AND DATE_DAYalias1.MONTH_NUMBER = 7 AND DATE_DAYalias1.DAY_NUMBER = 7 ) AND CITYalias1.CITY_CODE = AIRPORT_SERVICEalias1.CITY_CODE AND CITYalias1.CITY_NAME = \"BALTIMORE\" AND FLIGHTalias0.TO_AIRPORT = AIRPORT_SERVICEalias1.AIRPORT_CODE ) AND CITYalias0.CITY_CODE = AIRPORT_SERVICEalias0.CITY_CODE AND CITYalias0.CITY_NAME = \"DENVER\" AND FLIGHTalias0.FROM_AIRPORT = AIRPORT_SERVICEalias0.AIRPORT_CODE ) AND FLIGHTalias0.STOPS = 0 ;\n",
      "Line 46: SELECT DISTINCT FLIGHTalias0.FLIGHT_ID FROM AIRPORT_SERVICE AS AIRPORT_SERVICEalias0 , AIRPORT_SERVICE AS AIRPORT_SERVICEalias1 , CITY AS CITYalias0 , CITY AS CITYalias1 , DATE_DAY AS DATE_DAYalias0 , DAYS AS DAYSalias0 , FLIGHT AS FLIGHTalias0 WHERE ( ( ( ( ( FLIGHTalias0.ARRIVAL_TIME < 41 OR FLIGHTalias0.TIME_ELAPSED >= 60 ) AND FLIGHTalias0.DEPARTURE_TIME > FLIGHTalias0.ARRIVAL_TIME ) AND DATE_DAYalias0.DAY_NUMBER = 13 AND DATE_DAYalias0.MONTH_NUMBER = 7 AND DATE_DAYalias0.YEAR = 1991 AND DAYSalias0.DAY_NAME = DATE_DAYalias0.DAY_NAME AND FLIGHTalias0.FLIGHT_DAYS = DAYSalias0.DAYS_CODE ) OR ( DATE_DAYalias0.DAY_NUMBER = day_number1 AND DATE_DAYalias0.MONTH_NUMBER = 7 AND DATE_DAYalias0.YEAR = 1991 AND DAYSalias0.DAY_NAME = DATE_DAYalias0.DAY_NAME AND FLIGHTalias0.FLIGHT_DAYS = DAYSalias0.DAYS_CODE AND NOT ( ( FLIGHTalias0.ARRIVAL_TIME < 41 OR FLIGHTalias0.TIME_ELAPSED >= 60 ) AND FLIGHTalias0.DEPARTURE_TIME > FLIGHTalias0.ARRIVAL_TIME ) ) ) AND CITYalias1.CITY_CODE = AIRPORT_SERVICEalias1.CITY_CODE AND CITYalias1.CITY_NAME = \"ATLANTA\" AND FLIGHTalias0.TO_AIRPORT = AIRPORT_SERVICEalias1.AIRPORT_CODE ) AND CITYalias0.CITY_CODE = AIRPORT_SERVICEalias0.CITY_CODE AND CITYalias0.CITY_NAME = \"CHARLOTTE\" AND FLIGHTalias0.FROM_AIRPORT = AIRPORT_SERVICEalias0.AIRPORT_CODE ;\n",
      "Line 47: SELECT DISTINCT FLIGHTalias0.FLIGHT_ID FROM AIRPORT_SERVICE AS AIRPORT_SERVICEalias0 , AIRPORT_SERVICE AS AIRPORT_SERVICEalias1 , CITY AS CITYalias0 , CITY AS CITYalias1 , DATE_DAY AS DATE_DAYalias0 , DATE_DAY AS DATE_DAYalias1 , DAYS AS DAYSalias0 , DAYS AS DAYSalias1 , FLIGHT AS FLIGHTalias0 WHERE ( ( ( ( FLIGHTalias0.ARRIVAL_TIME < FLIGHTalias0.DEPARTURE_TIME ) AND DATE_DAYalias0.DAY_NUMBER = 13 AND DATE_DAYalias0.MONTH_NUMBER = 7 AND DATE_DAYalias0.YEAR = 1991 AND DAYSalias0.DAY_NAME = DATE_DAYalias0.DAY_NAME AND FLIGHTalias0.FLIGHT_DAYS = DAYSalias0.DAYS_CODE ) OR FLIGHTalias0.FLIGHT_DAYS = DAYSalias1.DAYS_CODE AND DAYSalias1.DAY_NAME = DATE_DAYalias1.DAY_NAME AND DATE_DAYalias1.YEAR = 1991 AND DATE_DAYalias1.MONTH_NUMBER = 7 AND DATE_DAYalias1.DAY_NUMBER = day_number1 ) AND CITYalias1.CITY_CODE = AIRPORT_SERVICEalias1.CITY_CODE AND CITYalias1.CITY_NAME = \"ATLANTA\" AND FLIGHTalias0.TO_AIRPORT = AIRPORT_SERVICEalias1.AIRPORT_CODE ) AND CITYalias0.CITY_CODE = AIRPORT_SERVICEalias0.CITY_CODE AND CITYalias0.CITY_NAME = \"CHARLOTTE\" AND FLIGHTalias0.FROM_AIRPORT = AIRPORT_SERVICEalias0.AIRPORT_CODE ;\n",
      "Line 178: SELECT DISTINCT FLIGHTalias0.FLIGHT_ID FROM AIRPORT_SERVICE AS AIRPORT_SERVICEalias0 , AIRPORT_SERVICE AS AIRPORT_SERVICEalias1 , CITY AS CITYalias0 , CITY AS CITYalias1 , DATE_DAY AS DATE_DAYalias0 , DAYS AS DAYSalias0 , FLIGHT AS FLIGHTalias0 WHERE ( ( ( ( ( FLIGHTalias0.DEPARTURE_TIME BETWEEN 0 AND 1200 ) AND DATE_DAYalias0.DAY_NUMBER = 20 AND DATE_DAYalias0.MONTH_NUMBER = 1 AND DATE_DAYalias0.YEAR = 1991 AND DAYSalias0.DAY_NAME = DATE_DAYalias0.DAY_NAME AND FLIGHTalias0.FLIGHT_DAYS = DAYSalias0.DAYS_CODE ) OR ( DATE_DAYalias0.DAY_NUMBER = 19 AND DATE_DAYalias0.MONTH_NUMBER = 1 AND DATE_DAYalias0.YEAR = 1991 AND DAYSalias0.DAY_NAME = DATE_DAYalias0.DAY_NAME AND FLIGHTalias0.FLIGHT_DAYS = DAYSalias0.DAYS_CODE AND NOT ( FLIGHTalias0.DEPARTURE_TIME BETWEEN 0 AND 1200 ) ) ) AND CITYalias1.CITY_CODE = AIRPORT_SERVICEalias1.CITY_CODE AND CITYalias1.CITY_NAME = \"ATLANTA\" AND FLIGHTalias0.TO_AIRPORT = AIRPORT_SERVICEalias1.AIRPORT_CODE ) AND CITYalias0.CITY_CODE = AIRPORT_SERVICEalias0.CITY_CODE AND CITYalias0.CITY_NAME = \"PITTSBURGH\" AND FLIGHTalias0.FROM_AIRPORT = AIRPORT_SERVICEalias0.AIRPORT_CODE ) AND FLIGHTalias0.DEPARTURE_TIME NOT BETWEEN departure_time2 AND departure_time3 ;\n",
      "Line 327: SELECT DISTINCT FLIGHTalias0.FLIGHT_ID FROM AIRPORT_SERVICE AS AIRPORT_SERVICEalias0 , AIRPORT_SERVICE AS AIRPORT_SERVICEalias1 , AIRPORT_SERVICE AS AIRPORT_SERVICEalias2 , CITY AS CITYalias0 , CITY AS CITYalias1 , CITY AS CITYalias2 , FLIGHT AS FLIGHTalias0 WHERE ( ( ( FLIGHTalias0.TO_AIRPORT = AIRPORT_SERVICEalias1.AIRPORT_CODE AND CITYalias1.CITY_CODE = AIRPORT_SERVICEalias1.CITY_CODE AND CITYalias1.CITY_NAME = \"SAN FRANCISCO\" ) OR ( FLIGHTalias0.TO_AIRPORT = AIRPORT_SERVICEalias2.AIRPORT_CODE AND CITYalias2.CITY_CODE = AIRPORT_SERVICEalias2.CITY_CODE AND CITYalias2.CITY_NAME = \"OAKLAND\" ) ) AND FLIGHTalias0.ARRIVAL_TIME < 1400 ) AND CITYalias0.CITY_CODE = AIRPORT_SERVICEalias0.CITY_CODE AND CITYalias0.CITY_NAME = \"BOSTON\" AND FLIGHTalias0.FROM_AIRPORT = AIRPORT_SERVICEalias0.AIRPORT_CODE ;\n",
      "Line 411: SELECT DISTINCT FLIGHTalias0.FLIGHT_ID FROM AIRPORT_SERVICE AS AIRPORT_SERVICEalias0 , AIRPORT_SERVICE AS AIRPORT_SERVICEalias1 , AIRPORT_SERVICE AS AIRPORT_SERVICEalias2 , CITY AS CITYalias0 , CITY AS CITYalias1 , CITY AS CITYalias2 , FLIGHT AS FLIGHTalias0 WHERE ( ( FLIGHTalias0.TO_AIRPORT = AIRPORT_SERVICEalias1.AIRPORT_CODE AND CITYalias1.CITY_CODE = AIRPORT_SERVICEalias1.CITY_CODE AND CITYalias1.CITY_NAME = \"BALTIMORE\" ) OR ( FLIGHTalias0.TO_AIRPORT = AIRPORT_SERVICEalias2.AIRPORT_CODE AND CITYalias2.CITY_CODE = AIRPORT_SERVICEalias2.CITY_CODE AND CITYalias2.CITY_NAME = \"WASHINGTON\" ) ) AND CITYalias0.CITY_CODE = AIRPORT_SERVICEalias0.CITY_CODE AND CITYalias0.CITY_NAME = \"BOSTON\" AND FLIGHTalias0.FROM_AIRPORT = AIRPORT_SERVICEalias0.AIRPORT_CODE ;\n",
      "Line 412: SELECT DISTINCT FLIGHTalias0.FLIGHT_ID FROM AIRPORT_SERVICE AS AIRPORT_SERVICEalias0 , AIRPORT_SERVICE AS AIRPORT_SERVICEalias1 , AIRPORT_SERVICE AS AIRPORT_SERVICEalias2 , CITY AS CITYalias0 , CITY AS CITYalias1 , CITY AS CITYalias2 , FLIGHT AS FLIGHTalias0 WHERE ( ( FLIGHTalias0.TO_AIRPORT = AIRPORT_SERVICEalias1.AIRPORT_CODE AND CITYalias1.CITY_CODE = AIRPORT_SERVICEalias1.CITY_CODE AND CITYalias1.CITY_NAME = \"BALTIMORE\" ) OR ( FLIGHTalias0.TO_AIRPORT = AIRPORT_SERVICEalias2.AIRPORT_CODE AND CITYalias2.CITY_CODE = AIRPORT_SERVICEalias2.CITY_CODE AND CITYalias2.CITY_NAME = \"WASHINGTON\" AND CITYalias2.STATE_CODE = \"DC\" ) ) AND CITYalias0.CITY_CODE = AIRPORT_SERVICEalias0.CITY_CODE AND CITYalias0.CITY_NAME = \"BOSTON\" AND FLIGHTalias0.FROM_AIRPORT = AIRPORT_SERVICEalias0.AIRPORT_CODE ;\n",
      "Line 428: SELECT DISTINCT FLIGHTalias0.FLIGHT_ID FROM AIRPORT_SERVICE AS AIRPORT_SERVICEalias0 , AIRPORT_SERVICE AS AIRPORT_SERVICEalias1 , AIRPORT_SERVICE AS AIRPORT_SERVICEalias2 , CITY AS CITYalias0 , CITY AS CITYalias1 , CITY AS CITYalias2 , DATE_DAY AS DATE_DAYalias0 , DAYS AS DAYSalias0 , FLIGHT AS FLIGHTalias0 WHERE ( CITYalias2.CITY_CODE = AIRPORT_SERVICEalias2.CITY_CODE AND CITYalias2.CITY_NAME = \"LAS VEGAS\" AND DATE_DAYalias0.DAY_NUMBER = 27 AND DATE_DAYalias0.MONTH_NUMBER = 8 AND DATE_DAYalias0.YEAR = 1991 AND DAYSalias0.DAY_NAME = DATE_DAYalias0.DAY_NAME AND FLIGHTalias0.FLIGHT_DAYS = DAYSalias0.DAYS_CODE AND FLIGHTalias0.TO_AIRPORT = AIRPORT_SERVICEalias2.AIRPORT_CODE ) AND ( ( FLIGHTalias0.FROM_AIRPORT = AIRPORT_SERVICEalias0.AIRPORT_CODE AND CITYalias0.CITY_CODE = AIRPORT_SERVICEalias0.CITY_CODE AND CITYalias0.CITY_NAME = \"NEW YORK\" ) OR ( FLIGHTalias0.FROM_AIRPORT = AIRPORT_SERVICEalias1.AIRPORT_CODE AND CITYalias1.CITY_CODE = AIRPORT_SERVICEalias1.CITY_CODE AND CITYalias1.CITY_NAME = \"MEMPHIS\" ) ) ;\n"
     ]
    },
    {
     "name": "stdout",
     "output_type": "stream",
     "text": [
      "Line 517: SELECT DISTINCT FLIGHTalias0.FLIGHT_ID FROM AIRPORT_SERVICE AS AIRPORT_SERVICEalias0 , AIRPORT_SERVICE AS AIRPORT_SERVICEalias1 , AIRPORT_SERVICE AS AIRPORT_SERVICEalias2 , CITY AS CITYalias0 , CITY AS CITYalias1 , CITY AS CITYalias2 , DATE_DAY AS DATE_DAYalias0 , DAYS AS DAYSalias0 , FLIGHT AS FLIGHTalias0 WHERE ( ( CITYalias2.CITY_CODE = AIRPORT_SERVICEalias2.CITY_CODE AND CITYalias2.CITY_NAME = \"LAS VEGAS\" AND DATE_DAYalias0.DAY_NUMBER = 27 AND DATE_DAYalias0.MONTH_NUMBER = 8 AND DATE_DAYalias0.YEAR = 1991 AND DAYSalias0.DAY_NAME = DATE_DAYalias0.DAY_NAME AND FLIGHTalias0.FLIGHT_DAYS = DAYSalias0.DAYS_CODE AND FLIGHTalias0.TO_AIRPORT = AIRPORT_SERVICEalias2.AIRPORT_CODE ) AND ( ( FLIGHTalias0.FROM_AIRPORT = AIRPORT_SERVICEalias0.AIRPORT_CODE AND CITYalias0.CITY_CODE = AIRPORT_SERVICEalias0.CITY_CODE AND CITYalias0.CITY_NAME = \"NEW YORK\" ) OR ( FLIGHTalias0.FROM_AIRPORT = AIRPORT_SERVICEalias1.AIRPORT_CODE AND CITYalias1.CITY_CODE = AIRPORT_SERVICEalias1.CITY_CODE AND CITYalias1.CITY_NAME = \"MEMPHIS\" ) ) ) AND FLIGHTalias0.STOPS = 0 ;\n",
      "Line 664: SELECT DISTINCT FLIGHTalias0.FLIGHT_ID FROM AIRPORT_SERVICE AS AIRPORT_SERVICEalias0 , AIRPORT_SERVICE AS AIRPORT_SERVICEalias1 , AIRPORT_SERVICE AS AIRPORT_SERVICEalias2 , CITY AS CITYalias0 , CITY AS CITYalias1 , CITY AS CITYalias2 , DATE_DAY AS DATE_DAYalias0 , DAYS AS DAYSalias0 , FLIGHT AS FLIGHTalias0 WHERE ( ( ( ( ( ( FLIGHTalias0.ARRIVAL_TIME < 41 OR FLIGHTalias0.TIME_ELAPSED >= 60 ) AND FLIGHTalias0.DEPARTURE_TIME > FLIGHTalias0.ARRIVAL_TIME ) AND DATE_DAYalias0.DAY_NUMBER = 26 AND DATE_DAYalias0.MONTH_NUMBER = 7 AND DATE_DAYalias0.YEAR = 1991 AND DAYSalias0.DAY_NAME = DATE_DAYalias0.DAY_NAME AND FLIGHTalias0.FLIGHT_DAYS = DAYSalias0.DAYS_CODE ) OR ( DATE_DAYalias0.DAY_NUMBER = 26 AND DATE_DAYalias0.MONTH_NUMBER = 7 AND DATE_DAYalias0.YEAR = 1991 AND DAYSalias0.DAY_NAME = DATE_DAYalias0.DAY_NAME AND FLIGHTalias0.FLIGHT_DAYS = DAYSalias0.DAYS_CODE AND NOT ( ( FLIGHTalias0.ARRIVAL_TIME < 41 OR FLIGHTalias0.TIME_ELAPSED >= 60 ) AND FLIGHTalias0.DEPARTURE_TIME > FLIGHTalias0.ARRIVAL_TIME ) ) ) AND ( FLIGHTalias0.ARRIVAL_TIME <= 2200 AND FLIGHTalias0.ARRIVAL_TIME >= 1800 ) ) AND CITYalias2.CITY_CODE = AIRPORT_SERVICEalias2.CITY_CODE AND CITYalias2.CITY_NAME = \"LOS ANGELES\" AND FLIGHTalias0.TO_AIRPORT = AIRPORT_SERVICEalias2.AIRPORT_CODE ) AND ( ( FLIGHTalias0.FROM_AIRPORT = AIRPORT_SERVICEalias0.AIRPORT_CODE AND CITYalias0.CITY_CODE = AIRPORT_SERVICEalias0.CITY_CODE AND CITYalias0.CITY_NAME = \"KANSAS CITY\" ) OR ( FLIGHTalias0.FROM_AIRPORT = AIRPORT_SERVICEalias1.AIRPORT_CODE AND CITYalias1.CITY_CODE = AIRPORT_SERVICEalias1.CITY_CODE AND CITYalias1.CITY_NAME = \"LAS VEGAS\" ) ) ;\n",
      "Line 683: SELECT DISTINCT FLIGHTalias0.FLIGHT_ID FROM AIRPORT_SERVICE AS AIRPORT_SERVICEalias0 , AIRPORT_SERVICE AS AIRPORT_SERVICEalias1 , AIRPORT_SERVICE AS AIRPORT_SERVICEalias2 , CITY AS CITYalias0 , CITY AS CITYalias1 , CITY AS CITYalias2 , FLIGHT AS FLIGHTalias0 WHERE ( ( ( FLIGHTalias0.TO_AIRPORT = AIRPORT_SERVICEalias1.AIRPORT_CODE AND CITYalias1.CITY_CODE = AIRPORT_SERVICEalias1.CITY_CODE AND CITYalias1.CITY_NAME = \"BALTIMORE\" ) OR ( FLIGHTalias0.TO_AIRPORT = AIRPORT_SERVICEalias2.AIRPORT_CODE AND CITYalias2.CITY_CODE = AIRPORT_SERVICEalias2.CITY_CODE AND CITYalias2.CITY_NAME = \"WASHINGTON\" ) ) AND CITYalias0.CITY_CODE = AIRPORT_SERVICEalias0.CITY_CODE AND CITYalias0.CITY_NAME = \"BOSTON\" AND FLIGHTalias0.FROM_AIRPORT = AIRPORT_SERVICEalias0.AIRPORT_CODE ) AND FLIGHTalias0.DEPARTURE_TIME = ( SELECT MIN( FLIGHTalias1.DEPARTURE_TIME ) FROM AIRPORT_SERVICE AS AIRPORT_SERVICEalias3 , AIRPORT_SERVICE AS AIRPORT_SERVICEalias4 , AIRPORT_SERVICE AS AIRPORT_SERVICEalias5 , CITY AS CITYalias3 , CITY AS CITYalias4 , CITY AS CITYalias5 , FLIGHT AS FLIGHTalias1 WHERE ( ( FLIGHTalias1.TO_AIRPORT = AIRPORT_SERVICEalias4.AIRPORT_CODE AND CITYalias4.CITY_CODE = AIRPORT_SERVICEalias4.CITY_CODE AND CITYalias4.CITY_NAME = \"BALTIMORE\" ) OR ( FLIGHTalias1.TO_AIRPORT = AIRPORT_SERVICEalias5.AIRPORT_CODE AND CITYalias5.CITY_CODE = AIRPORT_SERVICEalias5.CITY_CODE AND CITYalias5.CITY_NAME = \"WASHINGTON\" ) ) AND CITYalias3.CITY_CODE = AIRPORT_SERVICEalias3.CITY_CODE AND CITYalias3.CITY_NAME = \"BOSTON\" AND FLIGHTalias1.FROM_AIRPORT = AIRPORT_SERVICEalias3.AIRPORT_CODE ) ;\n",
      "Line 687: SELECT DISTINCT AIRLINEalias0.AIRLINE_CODE FROM AIRLINE AS AIRLINEalias0 , AIRPORT_SERVICE AS AIRPORT_SERVICEalias0 , AIRPORT_SERVICE AS AIRPORT_SERVICEalias1 , AIRPORT_SERVICE AS AIRPORT_SERVICEalias2 , CITY AS CITYalias0 , CITY AS CITYalias1 , CITY AS CITYalias2 , FLIGHT AS FLIGHTalias0 , FLIGHT AS FLIGHTalias1 , FLIGHT AS FLIGHTalias2 WHERE ( ( CITYalias1.CITY_CODE = AIRPORT_SERVICEalias1.CITY_CODE AND CITYalias1.CITY_NAME = \"DALLAS\" AND CITYalias2.CITY_CODE = AIRPORT_SERVICEalias2.CITY_CODE AND CITYalias2.CITY_NAME = \"WASHINGTON\" AND FLIGHTalias1.AIRLINE_CODE = AIRLINEalias0.AIRLINE_CODE AND FLIGHTalias1.FROM_AIRPORT = AIRPORT_SERVICEalias1.AIRPORT_CODE AND FLIGHTalias2.AIRLINE_CODE = AIRLINEalias0.AIRLINE_CODE AND FLIGHTalias2.FROM_AIRPORT = AIRPORT_SERVICEalias2.AIRPORT_CODE ) AND CITYalias0.CITY_CODE = AIRPORT_SERVICEalias0.CITY_CODE AND CITYalias0.CITY_NAME = \"BOSTON\" AND FLIGHTalias0.AIRLINE_CODE = AIRLINEalias0.AIRLINE_CODE AND FLIGHTalias0.FROM_AIRPORT = AIRPORT_SERVICEalias0.AIRPORT_CODE ) OR ( ( CITYalias1.CITY_CODE = AIRPORT_SERVICEalias1.CITY_CODE AND CITYalias1.CITY_NAME = \"DALLAS\" AND CITYalias2.CITY_CODE = AIRPORT_SERVICEalias2.CITY_CODE AND CITYalias2.CITY_NAME = \"WASHINGTON\" AND FLIGHTalias1.AIRLINE_CODE = AIRLINEalias0.AIRLINE_CODE AND FLIGHTalias1.TO_AIRPORT = AIRPORT_SERVICEalias1.AIRPORT_CODE AND FLIGHTalias2.AIRLINE_CODE = AIRLINEalias0.AIRLINE_CODE AND FLIGHTalias2.TO_AIRPORT = AIRPORT_SERVICEalias2.AIRPORT_CODE ) AND CITYalias0.CITY_CODE = AIRPORT_SERVICEalias0.CITY_CODE AND CITYalias0.CITY_NAME = \"BOSTON\" AND FLIGHTalias0.AIRLINE_CODE = AIRLINEalias0.AIRLINE_CODE AND FLIGHTalias0.TO_AIRPORT = AIRPORT_SERVICEalias0.AIRPORT_CODE ) ;\n",
      "Line 789: SELECT DISTINCT FLIGHTalias0.FLIGHT_ID FROM AIRPORT_SERVICE AS AIRPORT_SERVICEalias0 , AIRPORT_SERVICE AS AIRPORT_SERVICEalias1 , AIRPORT_SERVICE AS AIRPORT_SERVICEalias2 , CITY AS CITYalias0 , CITY AS CITYalias1 , CITY AS CITYalias2 , FLIGHT AS FLIGHTalias0 WHERE ( ( ( FLIGHTalias0.TO_AIRPORT = AIRPORT_SERVICEalias1.AIRPORT_CODE AND CITYalias1.CITY_CODE = AIRPORT_SERVICEalias1.CITY_CODE AND CITYalias1.CITY_NAME = \"BALTIMORE\" ) OR ( FLIGHTalias0.TO_AIRPORT = AIRPORT_SERVICEalias2.AIRPORT_CODE AND CITYalias2.CITY_CODE = AIRPORT_SERVICEalias2.CITY_CODE AND CITYalias2.CITY_NAME = \"WASHINGTON\" AND CITYalias2.STATE_CODE = \"DC\" ) ) AND FLIGHTalias0.ARRIVAL_TIME < 1230 ) AND CITYalias0.CITY_CODE = AIRPORT_SERVICEalias0.CITY_CODE AND CITYalias0.CITY_NAME = \"DENVER\" AND FLIGHTalias0.FROM_AIRPORT = AIRPORT_SERVICEalias0.AIRPORT_CODE ;\n",
      "Line 843: SELECT DISTINCT FLIGHTalias0.FLIGHT_ID FROM AIRPORT_SERVICE AS AIRPORT_SERVICEalias0 , AIRPORT_SERVICE AS AIRPORT_SERVICEalias1 , CITY AS CITYalias0 , CITY AS CITYalias1 , FLIGHT AS FLIGHTalias0 WHERE ( ( FLIGHTalias0.AIRLINE_CODE = \"NW\" ) OR ( FLIGHTalias0.AIRLINE_CODE = \"UA\" ) ) AND ( ( FLIGHTalias0.TO_AIRPORT = AIRPORT_SERVICEalias0.AIRPORT_CODE AND CITYalias0.CITY_CODE = AIRPORT_SERVICEalias0.CITY_CODE AND CITYalias0.CITY_NAME = \"DENVER\" ) OR ( FLIGHTalias0.FROM_AIRPORT = AIRPORT_SERVICEalias1.AIRPORT_CODE AND CITYalias1.CITY_CODE = AIRPORT_SERVICEalias1.CITY_CODE AND CITYalias1.CITY_NAME = \"DENVER\" ) ) ;\n",
      "Line 1030: SELECT DISTINCT FLIGHTalias0.FLIGHT_ID FROM AIRPORT_SERVICE AS AIRPORT_SERVICEalias0 , AIRPORT_SERVICE AS AIRPORT_SERVICEalias1 , AIRPORT_SERVICE AS AIRPORT_SERVICEalias2 , CITY AS CITYalias0 , CITY AS CITYalias1 , CITY AS CITYalias2 , DATE_DAY AS DATE_DAYalias0 , DAYS AS DAYSalias0 , FLIGHT AS FLIGHTalias0 WHERE ( ( ( ( ( FLIGHTalias0.ARRIVAL_TIME < 41 OR FLIGHTalias0.TIME_ELAPSED >= 60 ) AND FLIGHTalias0.DEPARTURE_TIME > FLIGHTalias0.ARRIVAL_TIME ) AND DATE_DAYalias0.DAY_NUMBER = 23 AND DATE_DAYalias0.MONTH_NUMBER = 4 AND DATE_DAYalias0.YEAR = 1991 AND DAYSalias0.DAY_NAME = DATE_DAYalias0.DAY_NAME AND FLIGHTalias0.FLIGHT_DAYS = DAYSalias0.DAYS_CODE ) OR ( DATE_DAYalias0.DAY_NUMBER = 23 AND DATE_DAYalias0.MONTH_NUMBER = 4 AND DATE_DAYalias0.YEAR = 1991 AND DAYSalias0.DAY_NAME = DATE_DAYalias0.DAY_NAME AND FLIGHTalias0.FLIGHT_DAYS = DAYSalias0.DAYS_CODE AND NOT ( ( FLIGHTalias0.ARRIVAL_TIME < 41 OR FLIGHTalias0.TIME_ELAPSED >= 60 ) AND FLIGHTalias0.DEPARTURE_TIME > FLIGHTalias0.ARRIVAL_TIME ) ) ) AND CITYalias2.CITY_CODE = AIRPORT_SERVICEalias2.CITY_CODE AND CITYalias2.CITY_NAME = \"WASHINGTON\" AND FLIGHTalias0.TO_AIRPORT = AIRPORT_SERVICEalias2.AIRPORT_CODE ) AND ( ( FLIGHTalias0.FROM_AIRPORT = AIRPORT_SERVICEalias0.AIRPORT_CODE AND CITYalias0.CITY_CODE = AIRPORT_SERVICEalias0.CITY_CODE AND CITYalias0.CITY_NAME = \"DENVER\" ) OR ( FLIGHTalias0.FROM_AIRPORT = AIRPORT_SERVICEalias1.AIRPORT_CODE AND CITYalias1.CITY_CODE = AIRPORT_SERVICEalias1.CITY_CODE AND CITYalias1.CITY_NAME = \"MIAMI\" ) ) ;\n"
     ]
    },
    {
     "name": "stdout",
     "output_type": "stream",
     "text": [
      "Line 1057: SELECT DISTINCT FLIGHTalias0.FLIGHT_ID FROM AIRPORT_SERVICE AS AIRPORT_SERVICEalias0 , AIRPORT_SERVICE AS AIRPORT_SERVICEalias1 , CITY AS CITYalias0 , CITY AS CITYalias1 , DATE_DAY AS DATE_DAYalias0 , DATE_DAY AS DATE_DAYalias1 , DAYS AS DAYSalias0 , DAYS AS DAYSalias1 , FLIGHT AS FLIGHTalias0 WHERE ( ( ( FLIGHTalias0.AIRLINE_CODE = \"AA\" ) AND ( ( FLIGHTalias0.FLIGHT_DAYS = DAYSalias0.DAYS_CODE AND DAYSalias0.DAY_NAME = DATE_DAYalias0.DAY_NAME AND DATE_DAYalias0.YEAR = 1991 AND DATE_DAYalias0.MONTH_NUMBER = 7 AND DATE_DAYalias0.DAY_NUMBER = 26 ) OR ( FLIGHTalias0.FLIGHT_DAYS = DAYSalias1.DAYS_CODE AND DAYSalias1.DAY_NAME = DATE_DAYalias1.DAY_NAME AND DATE_DAYalias1.YEAR = 1991 AND DATE_DAYalias1.MONTH_NUMBER = 7 AND DATE_DAYalias1.DAY_NUMBER = 26 ) ) ) AND CITYalias1.CITY_CODE = AIRPORT_SERVICEalias1.CITY_CODE AND CITYalias1.CITY_NAME = \"PHOENIX\" AND FLIGHTalias0.TO_AIRPORT = AIRPORT_SERVICEalias1.AIRPORT_CODE ) AND CITYalias0.CITY_CODE = AIRPORT_SERVICEalias0.CITY_CODE AND CITYalias0.CITY_NAME = \"MILWAUKEE\" AND FLIGHTalias0.FROM_AIRPORT = AIRPORT_SERVICEalias0.AIRPORT_CODE ;\n"
     ]
    }
   ],
   "source": [
    "# To create local mysql instance\n",
    "# brew services start mysql\n",
    "# mysql -u root\n",
    "# DROP DATABASE IF EXISTS {db};\n",
    "# CREATE DATABASE {db};\n",
    "# USE {db};\n",
    "# source /path/to/{db}.sql\n",
    "# \\q\n",
    "# brew services stop mysql\n",
    "# excute mysql queries\n",
    "\n",
    "# Define a function to handle the timeout\n",
    "def timeout_handler(signum, frame):\n",
    "    raise TimeoutError(\"Query execution timed out\")\n",
    "\n",
    "# Set the signal alarm to trigger\n",
    "signal.signal(signal.SIGALRM, timeout_handler)\n",
    "    \n",
    "with open(os.path.join(runtime_data_dir, f'query-runtime-atis.csv'), 'w', newline='') as outfile:\n",
    "    query_writer = csv.writer(outfile)\n",
    "    # query number 40 this takes forever for 'atis' \n",
    "    # query on line 40, 168 for 'geography' failed to run\n",
    "    for i, db in enumerate(['atis']):\n",
    "        connection = pymysql.connect(\n",
    "            host='localhost',\n",
    "            user='root',\n",
    "            password='',\n",
    "            database=db\n",
    "        )\n",
    "        \n",
    "        cursor = connection.cursor()\n",
    "\n",
    "        # disable caching to measure the runtime more accurately\n",
    "        \n",
    "        with open(os.path.join(csv_data_dir, f'{db}.csv'), newline='') as csvfile:\n",
    "            query_reader = csv.reader(csvfile)\n",
    "            row = next(query_reader)\n",
    "            # Add header for the \"running time\" column\n",
    "            if i == 0:\n",
    "                row.append('runtime (ms)')\n",
    "                row.append('db')\n",
    "                row.append('engine')\n",
    "                query_writer.writerows([row])\n",
    "\n",
    "            for j, row in enumerate(query_reader):\n",
    "                signal.alarm(60)  # Timeout after 60 seconds\n",
    "                \n",
    "                start_time = time.time()\n",
    "                sql_query = row[0]\n",
    "                try:\n",
    "                    cursor.execute(sql_query)\n",
    "                    cursor.connection.commit()\n",
    "                except TimeoutError:\n",
    "                    print(f'Line {j+2}: TimeoutError')\n",
    "                    continue\n",
    "                except:\n",
    "                    print(f'Line {j+2}: {sql_query}')\n",
    "                    continue\n",
    "                finally:\n",
    "                    signal.alarm(0)\n",
    "                    connection.ping(reconnect=True) # attempt to reconnect\n",
    "                \n",
    "                end_time = time.time()\n",
    "                running_time = (end_time - start_time) * 1000\n",
    "                row.append(running_time)\n",
    "                row.append(db)\n",
    "                row.append('mysql')\n",
    "\n",
    "                query_writer.writerow(row)\n",
    "                \n",
    "        cursor.close()\n",
    "        connection.close()"
   ]
  },
  {
   "cell_type": "code",
   "execution_count": null,
   "metadata": {},
   "outputs": [],
   "source": [
    "!brew services stop mysql"
   ]
  },
  {
   "cell_type": "code",
   "execution_count": 27,
   "metadata": {},
   "outputs": [
    {
     "name": "stdout",
     "output_type": "stream",
     "text": [
      "Concatenation complete\n"
     ]
    }
   ],
   "source": [
    "# Merge all the runtime files\n",
    "dbs = ['advising', 'atis', 'geography', 'restaurants', 'imdb', 'spider']\n",
    "\n",
    "output_file = os.path.join(runtime_data_dir, f'query-runtime-all.csv')\n",
    "\n",
    "# Open the output CSV file in write mode\n",
    "with open(output_file, 'w', newline='') as csvfile:\n",
    "    writer = csv.writer(csvfile)\n",
    "\n",
    "    # Iterate over each input file\n",
    "    for i, db in enumerate(dbs):\n",
    "        input_file = os.path.join(runtime_data_dir, f'query-runtime-{db}.csv')\n",
    "        # Open the input CSV file\n",
    "        with open(input_file, 'r', newline='') as infile:\n",
    "            reader = csv.reader(infile)\n",
    "            \n",
    "            header = next(reader)\n",
    "            if i == 0:\n",
    "                writer.writerow(header)\n",
    "                \n",
    "            # Iterate over each row in the input file\n",
    "            for row in reader:\n",
    "                # Write the row to the output CSV file\n",
    "                writer.writerow(row)\n",
    "\n",
    "print(\"Concatenation complete\")"
   ]
  },
  {
   "cell_type": "code",
   "execution_count": 35,
   "metadata": {},
   "outputs": [
    {
     "name": "stdout",
     "output_type": "stream",
     "text": [
      "<bound method NDFrame.head of                                                   query  runtime (ms)  \\\n",
      "0     SELECT DISTINCT COURSEalias0.ADVISORY_REQUIREM...      8.092165   \n",
      "1     SELECT DISTINCT COURSEalias0.DEPARTMENT , COUR...      0.772238   \n",
      "2     SELECT DISTINCT COURSEalias0.DEPARTMENT , COUR...      0.530958   \n",
      "3     SELECT COUNT( * ) > 0 FROM COURSE AS COURSEali...     92.988014   \n",
      "4     SELECT DISTINCT COURSEalias0.DEPARTMENT , COUR...      1.093864   \n",
      "...                                                 ...           ...   \n",
      "1910  SELECT MAX( RESULTSalias0.FASTESTLAPSPEED ) , ...      1.104116   \n",
      "1911  SELECT AVG( RESULTSalias0.FASTESTLAPSPEED ) , ...      1.092196   \n",
      "1912  SELECT COUNT( * ) , DRIVERSalias0.DRIVERID , D...     16.340971   \n",
      "1913  SELECT COUNT( * ) , DRIVERSalias0.DRIVERID FRO...     15.832901   \n",
      "1914  SELECT DRIVERSalias0.DRIVERID , DRIVERSalias0....     17.425776   \n",
      "\n",
      "             db  engine  \n",
      "0      advising   mysql  \n",
      "1      advising   mysql  \n",
      "2      advising   mysql  \n",
      "3      advising   mysql  \n",
      "4      advising   mysql  \n",
      "...         ...     ...  \n",
      "1910  formula_1  sqlite  \n",
      "1911  formula_1  sqlite  \n",
      "1912  formula_1  sqlite  \n",
      "1913  formula_1  sqlite  \n",
      "1914  formula_1  sqlite  \n",
      "\n",
      "[1915 rows x 4 columns]>\n",
      "query           False\n",
      "runtime (ms)    False\n",
      "db              False\n",
      "engine          False\n",
      "dtype: bool\n"
     ]
    }
   ],
   "source": [
    "import pandas as pd\n",
    "df = pd.read_csv(os.path.join(runtime_data_dir, f'query-runtime-all.csv'))\n",
    "print(df.head)\n",
    "print(df.isnull().any())"
   ]
  },
  {
   "cell_type": "code",
   "execution_count": null,
   "metadata": {},
   "outputs": [],
   "source": []
  }
 ],
 "metadata": {
  "kernelspec": {
   "display_name": "Python 3 (ipykernel)",
   "language": "python",
   "name": "python3"
  },
  "language_info": {
   "codemirror_mode": {
    "name": "ipython",
    "version": 3
   },
   "file_extension": ".py",
   "mimetype": "text/x-python",
   "name": "python",
   "nbconvert_exporter": "python",
   "pygments_lexer": "ipython3",
   "version": "3.11.5"
  }
 },
 "nbformat": 4,
 "nbformat_minor": 2
}
