{
 "cells": [
  {
   "cell_type": "code",
   "execution_count": 46,
   "id": "b285c41e",
   "metadata": {},
   "outputs": [],
   "source": [
    "import os\n",
    "import json\n",
    "import time\n",
    "from collections import defaultdict\n",
    "\n",
    "import numpy as np\n",
    "import pandas as pd\n",
    "from scipy.sparse import hstack\n",
    "import string\n",
    "import matplotlib.pyplot as plt\n",
    "\n",
    "from gensim.models import Word2Vec\n",
    "import xgboost as xgb\n",
    "\n",
    "from sklearn.feature_extraction.text import CountVectorizer\n",
    "from sklearn.model_selection import train_test_split\n",
    "from sklearn.preprocessing import MinMaxScaler\n",
    "from sklearn.ensemble import RandomForestClassifier\n",
    "from sklearn.svm import SVC\n",
    "from sklearn.neural_network import MLPClassifier\n",
    "from sklearn.metrics import accuracy_score\n",
    "from sklearn.metrics import classification_report\n",
    "from sklearn.model_selection import GridSearchCV"
   ]
  },
  {
   "cell_type": "code",
   "execution_count": 2,
   "id": "4feeb543",
   "metadata": {},
   "outputs": [],
   "source": [
    "seed = 291"
   ]
  },
  {
   "cell_type": "code",
   "execution_count": 3,
   "id": "76e668b1",
   "metadata": {},
   "outputs": [
    {
     "data": {
      "text/html": [
       "<div>\n",
       "<style scoped>\n",
       "    .dataframe tbody tr th:only-of-type {\n",
       "        vertical-align: middle;\n",
       "    }\n",
       "\n",
       "    .dataframe tbody tr th {\n",
       "        vertical-align: top;\n",
       "    }\n",
       "\n",
       "    .dataframe thead th {\n",
       "        text-align: right;\n",
       "    }\n",
       "</style>\n",
       "<table border=\"1\" class=\"dataframe\">\n",
       "  <thead>\n",
       "    <tr style=\"text-align: right;\">\n",
       "      <th></th>\n",
       "      <th>query</th>\n",
       "      <th>runtime (ms)</th>\n",
       "      <th>query_complexity</th>\n",
       "      <th>runtime_boolean</th>\n",
       "      <th>table_size</th>\n",
       "      <th>length</th>\n",
       "    </tr>\n",
       "  </thead>\n",
       "  <tbody>\n",
       "    <tr>\n",
       "      <th>0</th>\n",
       "      <td>select distinct coursealias0advisory_requireme...</td>\n",
       "      <td>8.092165</td>\n",
       "      <td>1</td>\n",
       "      <td>1</td>\n",
       "      <td>11453</td>\n",
       "      <td>15</td>\n",
       "    </tr>\n",
       "    <tr>\n",
       "      <th>1</th>\n",
       "      <td>select distinct coursealias0department coursea...</td>\n",
       "      <td>0.772238</td>\n",
       "      <td>1</td>\n",
       "      <td>0</td>\n",
       "      <td>11531</td>\n",
       "      <td>34</td>\n",
       "    </tr>\n",
       "    <tr>\n",
       "      <th>2</th>\n",
       "      <td>select distinct coursealias0department coursea...</td>\n",
       "      <td>0.530958</td>\n",
       "      <td>1</td>\n",
       "      <td>0</td>\n",
       "      <td>11531</td>\n",
       "      <td>36</td>\n",
       "    </tr>\n",
       "    <tr>\n",
       "      <th>3</th>\n",
       "      <td>select count 0 from course as coursealias0 cou...</td>\n",
       "      <td>92.988014</td>\n",
       "      <td>0</td>\n",
       "      <td>1</td>\n",
       "      <td>326457</td>\n",
       "      <td>53</td>\n",
       "    </tr>\n",
       "    <tr>\n",
       "      <th>4</th>\n",
       "      <td>select distinct coursealias0department coursea...</td>\n",
       "      <td>1.093864</td>\n",
       "      <td>1</td>\n",
       "      <td>0</td>\n",
       "      <td>23060</td>\n",
       "      <td>56</td>\n",
       "    </tr>\n",
       "  </tbody>\n",
       "</table>\n",
       "</div>"
      ],
      "text/plain": [
       "                                               query  runtime (ms)  \\\n",
       "0  select distinct coursealias0advisory_requireme...      8.092165   \n",
       "1  select distinct coursealias0department coursea...      0.772238   \n",
       "2  select distinct coursealias0department coursea...      0.530958   \n",
       "3  select count 0 from course as coursealias0 cou...     92.988014   \n",
       "4  select distinct coursealias0department coursea...      1.093864   \n",
       "\n",
       "   query_complexity  runtime_boolean  table_size  length  \n",
       "0                 1                1       11453      15  \n",
       "1                 1                0       11531      34  \n",
       "2                 1                0       11531      36  \n",
       "3                 0                1      326457      53  \n",
       "4                 1                0       23060      56  "
      ]
     },
     "execution_count": 3,
     "metadata": {},
     "output_type": "execute_result"
    }
   ],
   "source": [
    "data_dir = \"../data/runtime\"\n",
    "data = pd.read_csv(os.path.join(data_dir, \"proccessed-data.csv\"))\n",
    "data.head()"
   ]
  },
  {
   "cell_type": "code",
   "execution_count": 4,
   "id": "45743967",
   "metadata": {},
   "outputs": [],
   "source": [
    "labels = data['runtime_boolean']"
   ]
  },
  {
   "cell_type": "code",
   "execution_count": 5,
   "id": "7b7cc164",
   "metadata": {},
   "outputs": [],
   "source": [
    "x_basic = data[['query_complexity', 'table_size', 'length']].copy().values"
   ]
  },
  {
   "cell_type": "markdown",
   "id": "631ab2ea",
   "metadata": {},
   "source": [
    "## BoW (CountVectorizer)"
   ]
  },
  {
   "cell_type": "code",
   "execution_count": 6,
   "id": "ff6b04dd",
   "metadata": {},
   "outputs": [
    {
     "name": "stdout",
     "output_type": "stream",
     "text": [
      "(1799, 1440)\n"
     ]
    }
   ],
   "source": [
    "bow_features = data['query'].copy()\n",
    "vectorizer = CountVectorizer()\n",
    "bow_features = vectorizer.fit_transform(bow_features)\n",
    "additional_features = data[['query_complexity', 'table_size', 'length']].values\n",
    "x_bow = hstack([bow_features, additional_features])\n",
    "x_bow = x_bow.toarray()\n",
    "print(x_bow.shape)"
   ]
  },
  {
   "cell_type": "markdown",
   "id": "76efcdb9",
   "metadata": {},
   "source": [
    "## Word2Vec"
   ]
  },
  {
   "cell_type": "code",
   "execution_count": 7,
   "id": "9f16d863",
   "metadata": {},
   "outputs": [],
   "source": [
    "w2v_features = data['query'].apply(lambda x: x.lower().split())\n",
    "translator = str.maketrans('', '', string.punctuation)\n",
    "w2v_features = [[word for word in query if word.translate(translator) != ''] for query in w2v_features]"
   ]
  },
  {
   "cell_type": "code",
   "execution_count": 8,
   "id": "2ce87004",
   "metadata": {},
   "outputs": [],
   "source": [
    "word2vec_model = Word2Vec(w2v_features, window=5, min_count=1, workers=4)"
   ]
  },
  {
   "cell_type": "code",
   "execution_count": 9,
   "id": "f2c2de51",
   "metadata": {},
   "outputs": [
    {
     "name": "stdout",
     "output_type": "stream",
     "text": [
      "(1799, 103)\n"
     ]
    }
   ],
   "source": [
    "word_embeddings = {word: word2vec_model.wv[word] for word in word2vec_model.wv.key_to_index.keys()}\n",
    "w2v_mean_features = np.array([np.mean([word_embeddings[word] for word in query], axis=0) for query in w2v_features])\n",
    "x_w2v = np.hstack([w2v_mean_features, additional_features])\n",
    "print(x_w2v.shape)"
   ]
  },
  {
   "cell_type": "code",
   "execution_count": 10,
   "id": "624461a8",
   "metadata": {},
   "outputs": [],
   "source": [
    "def get_split_indices(n_sample, test_size=0.15, valid_size=0.15, random_state=seed):\n",
    "    indices = np.arange(n_sample)\n",
    "    valid_perc = valid_size / (1. - test_size)\n",
    "    \n",
    "    train_val_indices, test_indices = train_test_split(indices, test_size=test_size, random_state=random_state)\n",
    "    train_indices, val_indices = train_test_split(train_val_indices, test_size=valid_perc, random_state=random_state)  #\n",
    "    return train_val_indices, train_indices, val_indices, test_indices"
   ]
  },
  {
   "cell_type": "code",
   "execution_count": 11,
   "id": "a38e342b",
   "metadata": {},
   "outputs": [
    {
     "name": "stdout",
     "output_type": "stream",
     "text": [
      "1529 1259 270 270\n"
     ]
    }
   ],
   "source": [
    "train_val_indices, train_indices, val_indices, test_indices = get_split_indices(x_basic.shape[0])\n",
    "print(len(train_val_indices), len(train_indices), len(val_indices), len(test_indices))"
   ]
  },
  {
   "cell_type": "code",
   "execution_count": 12,
   "id": "d2dc0ccc",
   "metadata": {},
   "outputs": [],
   "source": [
    "# train, validation, test split (70:15:15)\n",
    "basic_X_train, basic_y_train = x_basic[train_indices].copy(), labels[train_indices]\n",
    "basic_X_val, basic_y_val = x_basic[val_indices].copy(), labels[val_indices]\n",
    "basic_X_test, basic_y_test = x_basic[test_indices].copy(), labels[test_indices]\n",
    "basic_X_trainval, basic_y_trainval = x_basic[train_val_indices].copy(), labels[train_val_indices]\n",
    "\n",
    "bow_X_train, bow_y_train = x_bow[train_indices].copy(), labels[train_indices]\n",
    "bow_X_val, bow_y_val = x_bow[val_indices].copy(), labels[val_indices]\n",
    "bow_X_test, bow_y_test = x_bow[test_indices].copy(), labels[test_indices]\n",
    "bow_X_trainval, bow_y_trainval = x_bow[train_val_indices].copy(), labels[train_val_indices]\n",
    "\n",
    "w2v_X_train, w2v_y_train = x_w2v[train_indices].copy(), labels[train_indices]\n",
    "w2v_X_val, w2v_y_val = x_w2v[val_indices].copy(), labels[val_indices]\n",
    "w2v_X_test, w2v_y_test = x_w2v[test_indices].copy(), labels[test_indices]\n",
    "w2v_X_trainval, w2v_y_trainval = x_w2v[train_val_indices].copy(), labels[train_val_indices]"
   ]
  },
  {
   "cell_type": "code",
   "execution_count": 13,
   "id": "d18c82b1",
   "metadata": {},
   "outputs": [],
   "source": [
    "# normalize trainval data\n",
    "basic_trainval_scaler = MinMaxScaler()\n",
    "norm_basic_X_trainval = basic_trainval_scaler.fit_transform(basic_X_trainval)\n",
    "norm_basic_X_test = basic_trainval_scaler.fit_transform(basic_X_test)\n",
    "\n",
    "bow_trainval_scaler = MinMaxScaler()\n",
    "norm_bow_X_trainval = bow_trainval_scaler.fit_transform(bow_X_trainval)\n",
    "norm_bow_X_test = bow_trainval_scaler.fit_transform(bow_X_test)\n",
    "\n",
    "w2v_trainval_scaler = MinMaxScaler()\n",
    "norm_w2v_X_trainval = w2v_trainval_scaler.fit_transform(w2v_X_trainval)\n",
    "norm_w2v_X_test = w2v_trainval_scaler.fit_transform(w2v_X_test)"
   ]
  },
  {
   "cell_type": "code",
   "execution_count": 14,
   "id": "a1541c45",
   "metadata": {},
   "outputs": [],
   "source": [
    "# Suppress warnings (Some convergence warning in SVC and MLP)\n",
    "import warnings\n",
    "warnings.filterwarnings(\"ignore\")\n",
    "import sys\n",
    "if not sys.warnoptions:\n",
    "    warnings.simplefilter(\"ignore\")\n",
    "    os.environ[\"PYTHONWARNINGS\"] = \"ignore\""
   ]
  },
  {
   "cell_type": "markdown",
   "id": "575bda00",
   "metadata": {},
   "source": [
    "## SVM"
   ]
  },
  {
   "cell_type": "code",
   "execution_count": 17,
   "id": "eb0988bc",
   "metadata": {},
   "outputs": [],
   "source": [
    "svc_params = {\n",
    "    'C': [0.1, 1, 10, 100, 1000],\n",
    "    'kernel': ['linear', 'poly', 'rbf'],\n",
    "    'degree': [2, 3, 4],\n",
    "    'gamma': ['scale', 'auto']\n",
    "}"
   ]
  },
  {
   "cell_type": "code",
   "execution_count": 18,
   "id": "18324544",
   "metadata": {
    "scrolled": true
   },
   "outputs": [
    {
     "name": "stdout",
     "output_type": "stream",
     "text": [
      "Fitting 5 folds for each of 90 candidates, totalling 450 fits\n",
      "SVC(C=1000, degree=2, max_iter=5000)\n",
      "0.8417122040072862\n"
     ]
    }
   ],
   "source": [
    "svc = SVC(max_iter=5000)\n",
    "basic_svc_clf = GridSearchCV(estimator=svc, param_grid=svc_params, cv=5, scoring='accuracy', verbose=1, n_jobs=-1)\n",
    "basic_svc_clf.fit(norm_basic_X_trainval, basic_y_trainval)\n",
    "print(basic_svc_clf.best_estimator_)\n",
    "print(basic_svc_clf.best_score_)"
   ]
  },
  {
   "cell_type": "code",
   "execution_count": 19,
   "id": "9175760f",
   "metadata": {},
   "outputs": [
    {
     "name": "stdout",
     "output_type": "stream",
     "text": [
      "Fitting 5 folds for each of 90 candidates, totalling 450 fits\n",
      "SVC(C=10, degree=2)\n",
      "0.8901082181506483\n"
     ]
    }
   ],
   "source": [
    "svc = SVC()\n",
    "bow_svc_clf = GridSearchCV(estimator=svc, param_grid=svc_params, cv=5, scoring='accuracy', verbose=1, n_jobs=-1)\n",
    "bow_svc_clf.fit(norm_bow_X_trainval, bow_y_trainval)\n",
    "print(bow_svc_clf.best_estimator_)\n",
    "print(bow_svc_clf.best_score_)"
   ]
  },
  {
   "cell_type": "code",
   "execution_count": 20,
   "id": "bc59a6b4",
   "metadata": {},
   "outputs": [
    {
     "name": "stdout",
     "output_type": "stream",
     "text": [
      "Fitting 5 folds for each of 90 candidates, totalling 450 fits\n",
      "SVC(C=10, degree=4, kernel='poly')\n",
      "0.882252223293689\n"
     ]
    }
   ],
   "source": [
    "svc = SVC()\n",
    "w2v_svc_clf = GridSearchCV(estimator=svc, param_grid=svc_params, cv=5, scoring='accuracy', verbose=1, n_jobs=-1)\n",
    "w2v_svc_clf.fit(norm_w2v_X_trainval, w2v_y_trainval)\n",
    "print(w2v_svc_clf.best_estimator_)\n",
    "print(w2v_svc_clf.best_score_)"
   ]
  },
  {
   "cell_type": "markdown",
   "id": "2265bf38",
   "metadata": {},
   "source": [
    "## Random Forest"
   ]
  },
  {
   "cell_type": "code",
   "execution_count": 21,
   "id": "9b920284",
   "metadata": {},
   "outputs": [],
   "source": [
    "rf_params = {\n",
    "    'n_estimators': [50, 100, 200],\n",
    "    'max_depth': [2, 5, 10, 20],\n",
    "    'min_samples_split': [2, 5, 10],\n",
    "    'min_samples_leaf': [1, 2, 4],\n",
    "    'criterion': ['gini', 'entropy']\n",
    "}"
   ]
  },
  {
   "cell_type": "code",
   "execution_count": 22,
   "id": "d2f5c091",
   "metadata": {},
   "outputs": [
    {
     "name": "stdout",
     "output_type": "stream",
     "text": [
      "Fitting 5 folds for each of 216 candidates, totalling 1080 fits\n",
      "RandomForestClassifier(criterion='entropy', max_depth=20, min_samples_split=5)\n",
      "0.8881452909032467\n"
     ]
    }
   ],
   "source": [
    "rf = RandomForestClassifier()\n",
    "basic_rf_clf = GridSearchCV(estimator=rf, param_grid=rf_params, cv=5, scoring='accuracy', verbose=1, n_jobs=-1)\n",
    "basic_rf_clf.fit(norm_basic_X_trainval, basic_y_trainval)\n",
    "print(basic_rf_clf.best_estimator_)\n",
    "print(basic_rf_clf.best_score_)"
   ]
  },
  {
   "cell_type": "code",
   "execution_count": 24,
   "id": "2131d775",
   "metadata": {},
   "outputs": [
    {
     "name": "stdout",
     "output_type": "stream",
     "text": [
      "Fitting 5 folds for each of 216 candidates, totalling 1080 fits\n",
      "RandomForestClassifier(criterion='entropy', max_depth=20, n_estimators=50)\n",
      "0.8874916961320046\n"
     ]
    }
   ],
   "source": [
    "rf = RandomForestClassifier()\n",
    "bow_rf_clf = GridSearchCV(estimator=rf, param_grid=rf_params, cv=5, scoring='accuracy', verbose=1, n_jobs=-1)\n",
    "bow_rf_clf.fit(norm_bow_X_trainval, bow_y_trainval)\n",
    "print(bow_rf_clf.best_estimator_)\n",
    "print(bow_rf_clf.best_score_)"
   ]
  },
  {
   "cell_type": "code",
   "execution_count": 25,
   "id": "d508a8eb",
   "metadata": {},
   "outputs": [
    {
     "name": "stdout",
     "output_type": "stream",
     "text": [
      "Fitting 5 folds for each of 216 candidates, totalling 1080 fits\n",
      "RandomForestClassifier(criterion='entropy', max_depth=20, n_estimators=50)\n",
      "0.8888096003428695\n"
     ]
    }
   ],
   "source": [
    "rf = RandomForestClassifier()\n",
    "w2v_rf_clf = GridSearchCV(estimator=rf, param_grid=rf_params, cv=5, scoring='accuracy', verbose=1, n_jobs=-1)\n",
    "w2v_rf_clf.fit(norm_w2v_X_trainval, w2v_y_trainval)\n",
    "print(w2v_rf_clf.best_estimator_)\n",
    "print(w2v_rf_clf.best_score_)"
   ]
  },
  {
   "cell_type": "markdown",
   "id": "0e91a006",
   "metadata": {},
   "source": [
    "## XGBoost"
   ]
  },
  {
   "cell_type": "code",
   "execution_count": 26,
   "id": "37a2f229",
   "metadata": {},
   "outputs": [],
   "source": [
    "xgb_params = {\n",
    "    'n_estimators': [50, 100, 200],\n",
    "    'learning_rate': [0.01, 0.1, 0.2],\n",
    "    'max_depth': [3, 4, 5],\n",
    "    'subsample': [0.8, 0.9, 1.0],\n",
    "    'colsample_bytree': [0.8, 0.9, 1.0]\n",
    "}"
   ]
  },
  {
   "cell_type": "code",
   "execution_count": 27,
   "id": "9a45dddb",
   "metadata": {},
   "outputs": [
    {
     "name": "stdout",
     "output_type": "stream",
     "text": [
      "Fitting 5 folds for each of 243 candidates, totalling 1215 fits\n",
      "XGBClassifier(base_score=None, booster=None, callbacks=None,\n",
      "              colsample_bylevel=None, colsample_bynode=None,\n",
      "              colsample_bytree=1.0, device=None, early_stopping_rounds=None,\n",
      "              enable_categorical=False, eval_metric=None, feature_types=None,\n",
      "              gamma=None, grow_policy=None, importance_type=None,\n",
      "              interaction_constraints=None, learning_rate=0.1, max_bin=None,\n",
      "              max_cat_threshold=None, max_cat_to_onehot=None,\n",
      "              max_delta_step=None, max_depth=5, max_leaves=None,\n",
      "              min_child_weight=None, missing=nan, monotone_constraints=None,\n",
      "              multi_strategy=None, n_estimators=200, n_jobs=None,\n",
      "              num_parallel_tree=None, random_state=None, ...)\n",
      "0.8894503375120539\n"
     ]
    }
   ],
   "source": [
    "xgbc = xgb.XGBClassifier()\n",
    "basic_xgb_clf = GridSearchCV(estimator=xgbc, param_grid=xgb_params, cv=5, scoring='accuracy', verbose=1, n_jobs=-1)\n",
    "basic_xgb_clf.fit(norm_basic_X_trainval, basic_y_trainval)\n",
    "print(basic_xgb_clf.best_estimator_)\n",
    "print(basic_xgb_clf.best_score_)"
   ]
  },
  {
   "cell_type": "code",
   "execution_count": 28,
   "id": "37f756da",
   "metadata": {},
   "outputs": [
    {
     "name": "stdout",
     "output_type": "stream",
     "text": [
      "Fitting 5 folds for each of 243 candidates, totalling 1215 fits\n",
      "XGBClassifier(base_score=None, booster=None, callbacks=None,\n",
      "              colsample_bylevel=None, colsample_bynode=None,\n",
      "              colsample_bytree=1.0, device=None, early_stopping_rounds=None,\n",
      "              enable_categorical=False, eval_metric=None, feature_types=None,\n",
      "              gamma=None, grow_policy=None, importance_type=None,\n",
      "              interaction_constraints=None, learning_rate=0.2, max_bin=None,\n",
      "              max_cat_threshold=None, max_cat_to_onehot=None,\n",
      "              max_delta_step=None, max_depth=5, max_leaves=None,\n",
      "              min_child_weight=None, missing=nan, monotone_constraints=None,\n",
      "              multi_strategy=None, n_estimators=200, n_jobs=None,\n",
      "              num_parallel_tree=None, random_state=None, ...)\n",
      "0.9031951141112182\n"
     ]
    }
   ],
   "source": [
    "xgbc = xgb.XGBClassifier()\n",
    "bow_xgb_clf = GridSearchCV(estimator=xgbc, param_grid=xgb_params, cv=5, scoring='accuracy', verbose=1, n_jobs=-1)\n",
    "bow_xgb_clf.fit(norm_bow_X_trainval, bow_y_trainval)\n",
    "print(bow_xgb_clf.best_estimator_)\n",
    "print(bow_xgb_clf.best_score_)"
   ]
  },
  {
   "cell_type": "code",
   "execution_count": 29,
   "id": "df7bd461",
   "metadata": {},
   "outputs": [
    {
     "name": "stdout",
     "output_type": "stream",
     "text": [
      "Fitting 5 folds for each of 243 candidates, totalling 1215 fits\n",
      "XGBClassifier(base_score=None, booster=None, callbacks=None,\n",
      "              colsample_bylevel=None, colsample_bynode=None,\n",
      "              colsample_bytree=0.9, device=None, early_stopping_rounds=None,\n",
      "              enable_categorical=False, eval_metric=None, feature_types=None,\n",
      "              gamma=None, grow_policy=None, importance_type=None,\n",
      "              interaction_constraints=None, learning_rate=0.1, max_bin=None,\n",
      "              max_cat_threshold=None, max_cat_to_onehot=None,\n",
      "              max_delta_step=None, max_depth=4, max_leaves=None,\n",
      "              min_child_weight=None, missing=nan, monotone_constraints=None,\n",
      "              multi_strategy=None, n_estimators=200, n_jobs=None,\n",
      "              num_parallel_tree=None, random_state=None, ...)\n",
      "0.8927333119039964\n"
     ]
    }
   ],
   "source": [
    "xgbc = xgb.XGBClassifier()\n",
    "w2v_xgb_clf = GridSearchCV(estimator=xgbc, param_grid=xgb_params, cv=5, scoring='accuracy', verbose=1, n_jobs=-1)\n",
    "w2v_xgb_clf.fit(norm_w2v_X_trainval, w2v_y_trainval)\n",
    "print(w2v_xgb_clf.best_estimator_)\n",
    "print(w2v_xgb_clf.best_score_)"
   ]
  },
  {
   "cell_type": "markdown",
   "id": "f5ee2e09",
   "metadata": {},
   "source": [
    "## MLP"
   ]
  },
  {
   "cell_type": "code",
   "execution_count": 31,
   "id": "d46a669f",
   "metadata": {},
   "outputs": [],
   "source": [
    "mlp_params = {\n",
    "    'hidden_layer_sizes': [(50, 50), (100,), (100, 50, 25)],\n",
    "    'activation': ['tanh', 'relu'],\n",
    "    'solver': ['sgd', 'adam'],\n",
    "    'alpha': [0.001, 0.01],\n",
    "    'learning_rate': ['constant', 'adaptive'],\n",
    "    'learning_rate_init': [0.001, 0.01, 0.1],\n",
    "    'max_iter': [400, 600],\n",
    "    'batch_size': [64]\n",
    "}"
   ]
  },
  {
   "cell_type": "code",
   "execution_count": 32,
   "id": "bb6e78c7",
   "metadata": {},
   "outputs": [
    {
     "name": "stdout",
     "output_type": "stream",
     "text": [
      "Fitting 5 folds for each of 288 candidates, totalling 1440 fits\n",
      "MLPClassifier(alpha=0.001, batch_size=64, hidden_layer_sizes=(50, 50),\n",
      "              learning_rate_init=0.01, max_iter=400, random_state=291)\n",
      "0.8456423443694419\n"
     ]
    }
   ],
   "source": [
    "mlp = MLPClassifier(random_state=291)\n",
    "basic_mlp_clf = GridSearchCV(estimator=mlp, param_grid=mlp_params, cv=5, scoring='accuracy', verbose=1, n_jobs=-1)\n",
    "basic_mlp_clf.fit(norm_basic_X_trainval, basic_y_trainval)\n",
    "print(basic_mlp_clf.best_estimator_)\n",
    "print(basic_mlp_clf.best_score_)"
   ]
  },
  {
   "cell_type": "code",
   "execution_count": 34,
   "id": "7e00543e",
   "metadata": {},
   "outputs": [
    {
     "name": "stdout",
     "output_type": "stream",
     "text": [
      "Fitting 5 folds for each of 288 candidates, totalling 1440 fits\n",
      "MLPClassifier(alpha=0.01, batch_size=64, hidden_layer_sizes=(50, 50),\n",
      "              learning_rate_init=0.01, max_iter=400, random_state=291,\n",
      "              solver='sgd')\n",
      "0.8848666023786563\n"
     ]
    }
   ],
   "source": [
    "mlp = MLPClassifier(random_state=291)\n",
    "bow_mlp_clf = GridSearchCV(estimator=mlp, param_grid=mlp_params, cv=5, scoring='accuracy', verbose=1, n_jobs=-1)\n",
    "bow_mlp_clf.fit(norm_bow_X_trainval, bow_y_trainval)\n",
    "print(bow_mlp_clf.best_estimator_)\n",
    "print(bow_mlp_clf.best_score_)"
   ]
  },
  {
   "cell_type": "code",
   "execution_count": 35,
   "id": "fbc382d2",
   "metadata": {},
   "outputs": [
    {
     "name": "stdout",
     "output_type": "stream",
     "text": [
      "Fitting 5 folds for each of 288 candidates, totalling 1440 fits\n",
      "MLPClassifier(activation='tanh', alpha=0.001, batch_size=64,\n",
      "              hidden_layer_sizes=(50, 50), learning_rate='adaptive',\n",
      "              learning_rate_init=0.1, max_iter=400, random_state=291,\n",
      "              solver='sgd')\n",
      "0.8548033858352084\n"
     ]
    }
   ],
   "source": [
    "mlp = MLPClassifier(random_state=291)\n",
    "w2v_mlp_clf = GridSearchCV(estimator=mlp, param_grid=mlp_params, cv=5, scoring='accuracy', verbose=1, n_jobs=-1)\n",
    "w2v_mlp_clf.fit(norm_w2v_X_trainval, w2v_y_trainval)\n",
    "print(w2v_mlp_clf.best_estimator_)\n",
    "print(w2v_mlp_clf.best_score_)"
   ]
  },
  {
   "cell_type": "markdown",
   "id": "b2673ebb",
   "metadata": {},
   "source": [
    "## Evaluate on Test Set"
   ]
  },
  {
   "cell_type": "code",
   "execution_count": 37,
   "id": "272d3e76",
   "metadata": {},
   "outputs": [],
   "source": [
    "def evaluate(test_X, test_y, model, output_dict=True):\n",
    "    y_pred = model.predict(test_X)\n",
    "    report = classification_report(test_y, y_pred, output_dict=output_dict)\n",
    "    return model, report"
   ]
  },
  {
   "cell_type": "code",
   "execution_count": 38,
   "id": "28b3c12b",
   "metadata": {},
   "outputs": [
    {
     "name": "stdout",
     "output_type": "stream",
     "text": [
      "SVC Basic\n",
      "0.8592592592592593\n",
      "SVC BOW\n",
      "0.9111111111111111\n",
      "SVC W2V\n",
      "0.5555555555555556\n"
     ]
    }
   ],
   "source": [
    "# SVM\n",
    "_, basic_svc_res = evaluate(norm_basic_X_test, basic_y_test, basic_svc_clf.best_estimator_)\n",
    "print('SVC Basic')\n",
    "print(basic_svc_res['accuracy'])\n",
    "\n",
    "_, bow_svc_res = evaluate(norm_bow_X_test, bow_y_test, bow_svc_clf.best_estimator_)\n",
    "print('SVC BOW')\n",
    "print(bow_svc_res['accuracy'])\n",
    "\n",
    "_, w2v_svc_res = evaluate(norm_w2v_X_test, w2v_y_test, w2v_svc_clf.best_estimator_)\n",
    "print('SVC W2V')\n",
    "print(w2v_svc_res['accuracy'])"
   ]
  },
  {
   "cell_type": "code",
   "execution_count": 39,
   "id": "bc67e77b",
   "metadata": {},
   "outputs": [
    {
     "name": "stdout",
     "output_type": "stream",
     "text": [
      "RF Basic\n",
      "0.7814814814814814\n",
      "RF BOW\n",
      "0.8962962962962963\n",
      "RF W2V\n",
      "0.8444444444444444\n"
     ]
    }
   ],
   "source": [
    "# RF\n",
    "_, basic_rf_res = evaluate(norm_basic_X_test, basic_y_test, basic_rf_clf.best_estimator_)\n",
    "print('RF Basic')\n",
    "print(basic_rf_res['accuracy'])\n",
    "\n",
    "_, bow_rf_res = evaluate(norm_bow_X_test, bow_y_test, bow_rf_clf.best_estimator_)\n",
    "print('RF BOW')\n",
    "print(bow_rf_res['accuracy'])\n",
    "\n",
    "_, w2v_rf_res = evaluate(norm_w2v_X_test, w2v_y_test, w2v_rf_clf.best_estimator_)\n",
    "print('RF W2V')\n",
    "print(w2v_rf_res['accuracy'])"
   ]
  },
  {
   "cell_type": "code",
   "execution_count": 40,
   "id": "2ac0284e",
   "metadata": {},
   "outputs": [
    {
     "name": "stdout",
     "output_type": "stream",
     "text": [
      "XGB Basic\n",
      "0.837037037037037\n",
      "XGB BOW\n",
      "0.8925925925925926\n",
      "XGB W2V\n",
      "0.8148148148148148\n"
     ]
    }
   ],
   "source": [
    "# XGB\n",
    "_, basic_xgb_res = evaluate(norm_basic_X_test, basic_y_test, basic_xgb_clf.best_estimator_)\n",
    "print('XGB Basic')\n",
    "print(basic_xgb_res['accuracy'])\n",
    "\n",
    "_, bow_xgb_res = evaluate(norm_bow_X_test, bow_y_test, bow_xgb_clf.best_estimator_)\n",
    "print('XGB BOW')\n",
    "print(bow_xgb_res['accuracy'])\n",
    "\n",
    "_, w2v_xgb_res = evaluate(norm_w2v_X_test, w2v_y_test, w2v_xgb_clf.best_estimator_)\n",
    "print('XGB W2V')\n",
    "print(w2v_xgb_res['accuracy'])"
   ]
  },
  {
   "cell_type": "code",
   "execution_count": 41,
   "id": "856666b0",
   "metadata": {},
   "outputs": [
    {
     "name": "stdout",
     "output_type": "stream",
     "text": [
      "MLP Basic\n",
      "0.837037037037037\n",
      "MLP BOW\n",
      "0.8814814814814815\n",
      "MLP W2V\n",
      "0.8074074074074075\n"
     ]
    }
   ],
   "source": [
    "# MLP\n",
    "_, basic_mlp_res = evaluate(norm_basic_X_test, basic_y_test, basic_mlp_clf.best_estimator_)\n",
    "print('MLP Basic')\n",
    "print(basic_mlp_res['accuracy'])\n",
    "\n",
    "_, bow_mlp_res = evaluate(norm_bow_X_test, bow_y_test, bow_mlp_clf.best_estimator_)\n",
    "print('MLP BOW')\n",
    "print(bow_mlp_res['accuracy'])\n",
    "\n",
    "_, w2v_mlp_res = evaluate(norm_w2v_X_test, w2v_y_test, w2v_mlp_clf.best_estimator_)\n",
    "print('MLP W2V')\n",
    "print(w2v_mlp_res['accuracy'])"
   ]
  },
  {
   "cell_type": "code",
   "execution_count": 42,
   "id": "c7f35a3c",
   "metadata": {},
   "outputs": [
    {
     "data": {
      "image/png": "[encoded data removed]",
      "text/plain": [
       "<Figure size 640x480 with 1 Axes>"
      ]
     },
     "metadata": {},
     "output_type": "display_data"
    }
   ],
   "source": [
    "# Plot Results\n",
    "models = ['SVM', 'RF', 'XGB', 'MLP']\n",
    "features = ['basic', 'bow', 'w2v']\n",
    "all_accuracy = [\n",
    "    [0.8592592592592593, 0.9111111111111111, 0.5555555555555556],  # Accuracies for SVC\n",
    "    [0.7814814814814814, 0.8962962962962963, 0.8444444444444444],  # Accuracies for RF\n",
    "    [0.837037037037037, 0.8925925925925926, 0.8148148148148148],   # Accuracies for XGB\n",
    "    [0.837037037037037, 0.8814814814814815, 0.8074074074074075]   # Accuracies for MLP\n",
    "]\n",
    "\n",
    "n_models = len(models)\n",
    "n_features = len(features)\n",
    "\n",
    "bar_width = 0.2\n",
    "index = np.arange(n_models)\n",
    "\n",
    "fig, ax = plt.subplots()\n",
    "\n",
    "for i in range(n_features):\n",
    "    plt.bar(index + i * bar_width, [acc[i] for acc in all_accuracy], bar_width, label=features[i])\n",
    "\n",
    "plt.xlabel('Models')\n",
    "plt.ylabel('Accuracy')\n",
    "plt.title('Test Accuracies of Various Models with Different Features')\n",
    "plt.xticks(index + bar_width * (n_features - 1) / 2, models)\n",
    "plt.legend(loc='upper right', bbox_to_anchor=(1.25, 1))\n",
    "\n",
    "plt.tight_layout() \n",
    "plt.savefig('test_accuracies.png')\n",
    "\n",
    "plt.show()"
   ]
  },
  {
   "cell_type": "code",
   "execution_count": 43,
   "id": "218967cc",
   "metadata": {},
   "outputs": [
    {
     "name": "stdout",
     "output_type": "stream",
     "text": [
      "Top 20 most important features\n",
      "['table_size' 'length' 'and' 'movie' 'as' 'moviealias0' 'actoralias0'\n",
      " 'actoralias0name' 'coursealias0course_id'\n",
      " 'course_offeringalias0course_id' 'moviealias0mid'\n",
      " 'program_coursealias0course_id' 'fare_basisalias1basis_days'\n",
      " 'airport_service' 'actor' 'course' 'course_offeringalias0' 'coursealias0'\n",
      " 'coursealias0number' 'directoralias0name']\n"
     ]
    }
   ],
   "source": [
    "# Most important features given by RF\n",
    "rf_bow_feature_importance = bow_rf_clf.best_estimator_.feature_importances_\n",
    "sorted_feature_importance = np.argsort(-np.abs(rf_bow_feature_importance))\n",
    "bow_full_feature_names = np.concatenate((vectorizer.get_feature_names_out(), ['query_complexity', 'table_size', 'length']))\n",
    "k = 20\n",
    "print(f'Top {k} most important features')\n",
    "print(bow_full_feature_names[sorted_feature_importance[:k]])"
   ]
  },
  {
   "cell_type": "code",
   "execution_count": null,
   "id": "2c2fd619",
   "metadata": {},
   "outputs": [],
   "source": [
    "# Test on Yelp Dataset"
   ]
  },
  {
   "cell_type": "code",
   "execution_count": null,
   "id": "ceb31c06",
   "metadata": {},
   "outputs": [],
   "source": [
    "yelp = pd.read_csv(os.path.join(data_dir, 'query-runtime-yelp.csv'))\n",
    "yelp.head()"
   ]
  },
  {
   "cell_type": "code",
   "execution_count": null,
   "id": "1908fce8",
   "metadata": {},
   "outputs": [],
   "source": [
    "yelp['query'] = yelp['query'].str.lower()\n",
    "complex_keywords = [\"join\", \"distinct\", \"group by\", \"count\", \"order by\"]\n",
    "\n",
    "def check_query_complexity(query):\n",
    "    words = query.split()\n",
    "    return int(any(keyword in words for keyword in complex_keywords))\n",
    "\n",
    "yelp[\"query_complexity\"] = yelp[\"query\"].apply(check_query_complexity)\n",
    "\n",
    "threshold = 2.7047347051217843\n",
    "yelp['runtime_boolean'] = (yelp['runtime (ms)'] >= threshold).astype(int)\n",
    "counts = yelp['runtime_boolean'].value_counts()\n",
    "print(counts)"
   ]
  },
  {
   "cell_type": "code",
   "execution_count": null,
   "id": "db288cd5",
   "metadata": {},
   "outputs": [],
   "source": [
    "with open(\"../data/table_sizes.json\", 'r') as json_file:\n",
    "    table_names = json.load(json_file)"
   ]
  },
  {
   "cell_type": "code",
   "execution_count": null,
   "id": "0178bb9a",
   "metadata": {},
   "outputs": [],
   "source": [
    "def compute_table_size(row, table_names):\n",
    "    query = row['query']\n",
    "    db = row['db']\n",
    "    words = query.split()\n",
    "    count = 0\n",
    "    for word in words:\n",
    "        if word in table_names[db]:\n",
    "            count += table_names[db][word]\n",
    "    return count\n",
    "\n",
    "yelp['table_size'] = yelp.apply(lambda row: compute_table_size(row, table_names), axis=1)"
   ]
  },
  {
   "cell_type": "code",
   "execution_count": null,
   "id": "33860b5e",
   "metadata": {},
   "outputs": [],
   "source": [
    "del yelp['engine']\n",
    "del yelp['db']"
   ]
  },
  {
   "cell_type": "code",
   "execution_count": null,
   "id": "d1218565",
   "metadata": {},
   "outputs": [],
   "source": [
    "yelp_x_basic = yelp[['query_complexity', 'table_size']].copy()\n",
    "\n",
    "yelp_bow_features = vectorizer.transform(yelp['query'].copy())\n",
    "yelp_additional_features = yelp[['query_complexity', 'table_size']].values\n",
    "yelp_x_bow = hstack([yelp_bow_features, yelp_additional_features])\n",
    "print(yelp_x_bow.shape)"
   ]
  },
  {
   "cell_type": "code",
   "execution_count": null,
   "id": "644bb557",
   "metadata": {},
   "outputs": [],
   "source": [
    "yelp_labels = yelp['runtime_boolean']"
   ]
  },
  {
   "cell_type": "code",
   "execution_count": null,
   "id": "aea4a7d6",
   "metadata": {},
   "outputs": [],
   "source": [
    "# Nomalize using the original scaler\n",
    "yelp_norm_basic_X = basic_trainval_scaler.transform(yelp_x_basic)\n",
    "yelp_norm_bow_X = bow_trainval_scaler.transform(yelp_x_bow.toarray())"
   ]
  },
  {
   "cell_type": "code",
   "execution_count": null,
   "id": "21b89657",
   "metadata": {},
   "outputs": [],
   "source": [
    "_, yelp_basic_res = evaluate(yelp_norm_basic_X, yelp_labels, basic_rf_clf.best_estimator_)\n",
    "print('Yelp RF Basic')\n",
    "print(yelp_basic_res['accuracy'])\n",
    "\n",
    "_, yelp_bow_res = evaluate(yelp_norm_bow_X, yelp_labels, bow_rf_clf.best_estimator_)\n",
    "print('Yelp RF BOW')\n",
    "print(yelp_bow_res['accuracy'])"
   ]
  },
  {
   "cell_type": "code",
   "execution_count": 47,
   "id": "873b0514",
   "metadata": {},
   "outputs": [
    {
     "name": "stdout",
     "output_type": "stream",
     "text": [
      "SVC Basic\n",
      "f1 score: 0.7964285714285715\n",
      "accuracy: 0.8592592592592593\n",
      "SVC BOW\n",
      "f1 score: 0.8883066740209598\n",
      "accuracy: 0.9111111111111111\n",
      "SVC W2V\n",
      "f1 score: 0.554945054945055\n",
      "accuracy: 0.5555555555555556\n",
      "RF Basic\n",
      "f1 score: 0.7230769230769231\n",
      "accuracy: 0.7777777777777778\n",
      "RF BOW\n",
      "f1 score: 0.8696524064171123\n",
      "accuracy: 0.9037037037037037\n",
      "RF W2V\n",
      "f1 score: 0.7933892009929264\n",
      "accuracy: 0.8481481481481481\n",
      "XGB Basic\n",
      "f1 score: 0.7816337034041615\n",
      "accuracy: 0.837037037037037\n",
      "XGB BOW\n",
      "f1 score: 0.8697843042690127\n",
      "accuracy: 0.8925925925925926\n",
      "XGB W2V\n",
      "f1 score: 0.7746394230769231\n",
      "accuracy: 0.8148148148148148\n",
      "MLP Basic\n",
      "f1 score: 0.769696029776675\n",
      "accuracy: 0.837037037037037\n",
      "MLP BOW\n",
      "f1 score: 0.8523076923076922\n",
      "accuracy: 0.8814814814814815\n",
      "MLP W2V\n",
      "f1 score: 0.76\n",
      "accuracy: 0.8074074074074075\n"
     ]
    }
   ],
   "source": [
    "# Should turn the train, eval, and get time task to a reusable function\n",
    "# Keeping the runtime fo training and evaluating each model\n",
    "train_time_data = defaultdict(list)\n",
    "pred_time_data = defaultdict(list)\n",
    "\n",
    "# SVC\n",
    "basic_svc = SVC(C=1000, degree=2, max_iter=5000)\n",
    "s = time.time()\n",
    "basic_svc = basic_svc.fit(norm_basic_X_trainval, basic_y_trainval)\n",
    "e = time.time()\n",
    "elapsed = e - s\n",
    "train_time_data['svc'].append(elapsed)\n",
    "\n",
    "bow_svc = SVC(C=10, degree=2)\n",
    "s = time.time()\n",
    "bow_svc = bow_svc.fit(norm_bow_X_trainval, bow_y_trainval)\n",
    "e = time.time()\n",
    "elapsed = e - s\n",
    "train_time_data['svc'].append(elapsed)\n",
    "\n",
    "w2v_svc = SVC(C=10, degree=4, kernel='poly')\n",
    "s = time.time()\n",
    "w2v_svc = w2v_svc.fit(norm_w2v_X_trainval, w2v_y_trainval)\n",
    "e = time.time()\n",
    "elapsed = e - s\n",
    "train_time_data['svc'].append(elapsed)\n",
    "\n",
    "s = time.time()\n",
    "_, basic_svc_res_1 = evaluate(norm_basic_X_test, basic_y_test, basic_svc)\n",
    "e = time.time()\n",
    "elapsed = e - s\n",
    "pred_time_data['svc'].append(elapsed)\n",
    "print('SVC Basic')\n",
    "print('f1 score:', basic_svc_res_1['macro avg']['f1-score'])\n",
    "print('accuracy:', basic_svc_res_1['accuracy'])\n",
    "\n",
    "s = time.time()\n",
    "_, bow_svc_res_1 = evaluate(norm_bow_X_test, bow_y_test, bow_svc)\n",
    "e = time.time()\n",
    "elapsed = e - s\n",
    "pred_time_data['svc'].append(elapsed)\n",
    "print('SVC BOW')\n",
    "print('f1 score:', bow_svc_res_1['macro avg']['f1-score'])\n",
    "print('accuracy:', bow_svc_res_1['accuracy'])\n",
    "\n",
    "s = time.time()\n",
    "_, w2v_svc_res_1 = evaluate(norm_w2v_X_test, w2v_y_test, w2v_svc)\n",
    "e = time.time()\n",
    "elapsed = e - s\n",
    "pred_time_data['svc'].append(elapsed)\n",
    "print('SVC W2V')\n",
    "print('f1 score:', w2v_svc_res_1['macro avg']['f1-score'])\n",
    "print('accuracy:', w2v_svc_res_1['accuracy'])\n",
    "\n",
    "# RF\n",
    "basic_rf = RandomForestClassifier(criterion='entropy', max_depth=20, min_samples_split=5)\n",
    "s = time.time()\n",
    "basic_rf = basic_rf.fit(norm_basic_X_trainval, basic_y_trainval)\n",
    "e = time.time()\n",
    "elapsed = e - s\n",
    "train_time_data['rf'].append(elapsed)\n",
    "\n",
    "bow_rf = RandomForestClassifier(criterion='entropy', max_depth=20, n_estimators=50)\n",
    "s = time.time()\n",
    "bow_rf = bow_rf.fit(norm_bow_X_trainval, bow_y_trainval)\n",
    "e = time.time()\n",
    "elapsed = e - s\n",
    "train_time_data['rf'].append(elapsed)\n",
    "\n",
    "w2v_rf = RandomForestClassifier(criterion='entropy', max_depth=20, n_estimators=50)\n",
    "s = time.time()\n",
    "w2v_rf = w2v_rf.fit(norm_w2v_X_trainval, w2v_y_trainval)\n",
    "e = time.time()\n",
    "elapsed = e - s\n",
    "train_time_data['rf'].append(elapsed)\n",
    "\n",
    "s = time.time()\n",
    "_, basic_rf_res_1 = evaluate(norm_basic_X_test, basic_y_test, basic_rf)\n",
    "e = time.time()\n",
    "elapsed = e - s\n",
    "pred_time_data['rf'].append(elapsed)\n",
    "print('RF Basic')\n",
    "print('f1 score:', basic_rf_res_1['macro avg']['f1-score'])\n",
    "print('accuracy:', basic_rf_res_1['accuracy'])\n",
    "\n",
    "s = time.time()\n",
    "_, bow_rf_res_1 = evaluate(norm_bow_X_test, bow_y_test, bow_rf)\n",
    "e = time.time()\n",
    "elapsed = e - s\n",
    "pred_time_data['rf'].append(elapsed)\n",
    "print('RF BOW')\n",
    "print('f1 score:', bow_rf_res_1['macro avg']['f1-score'])\n",
    "print('accuracy:', bow_rf_res_1['accuracy'])\n",
    "\n",
    "s = time.time()\n",
    "_, w2v_rf_res_1 = evaluate(norm_w2v_X_test, w2v_y_test, w2v_rf)\n",
    "e = time.time()\n",
    "elapsed = e - s\n",
    "pred_time_data['rf'].append(elapsed)\n",
    "print('RF W2V')\n",
    "print('f1 score:', w2v_rf_res_1['macro avg']['f1-score'])\n",
    "print('accuracy:', w2v_rf_res_1['accuracy'])\n",
    "\n",
    "# XGBoost\n",
    "basic_xgb = xgb.XGBClassifier(**basic_xgb_clf.best_params_)\n",
    "s = time.time()\n",
    "basic_xgb = basic_xgb.fit(norm_basic_X_trainval, basic_y_trainval)\n",
    "e = time.time()\n",
    "elapsed = e - s\n",
    "train_time_data['xgb'].append(elapsed)\n",
    "\n",
    "bow_xgb = xgb.XGBClassifier(**bow_xgb_clf.best_params_)\n",
    "s = time.time()\n",
    "bow_xgb = bow_xgb.fit(norm_bow_X_trainval, bow_y_trainval)\n",
    "e = time.time()\n",
    "elapsed = e - s\n",
    "train_time_data['xgb'].append(elapsed)\n",
    "\n",
    "w2v_xgb = xgb.XGBClassifier(**w2v_xgb_clf.best_params_)\n",
    "s = time.time()\n",
    "w2v_xgb = w2v_xgb.fit(norm_w2v_X_trainval, w2v_y_trainval)\n",
    "e = time.time()\n",
    "elapsed = e - s\n",
    "train_time_data['xgb'].append(elapsed)\n",
    "\n",
    "s = time.time()\n",
    "_, basic_xgb_res_1 = evaluate(norm_basic_X_test, basic_y_test, basic_xgb)\n",
    "e = time.time()\n",
    "elapsed = e - s\n",
    "pred_time_data['xgb'].append(elapsed)\n",
    "print('XGB Basic')\n",
    "print('f1 score:', basic_xgb_res_1['macro avg']['f1-score'])\n",
    "print('accuracy:', basic_xgb_res_1['accuracy'])\n",
    "\n",
    "s = time.time()\n",
    "_, bow_xgb_res_1 = evaluate(norm_bow_X_test, bow_y_test, bow_xgb)\n",
    "e = time.time()\n",
    "elapsed = e - s\n",
    "pred_time_data['xgb'].append(elapsed)\n",
    "print('XGB BOW')\n",
    "print('f1 score:', bow_xgb_res_1['macro avg']['f1-score'])\n",
    "print('accuracy:', bow_xgb_res_1['accuracy'])\n",
    "\n",
    "s = time.time()\n",
    "_, w2v_xgb_res_1 = evaluate(norm_w2v_X_test, w2v_y_test, w2v_xgb)\n",
    "e = time.time()\n",
    "elapsed = e - s\n",
    "pred_time_data['xgb'].append(elapsed)\n",
    "print('XGB W2V')\n",
    "print('f1 score:', w2v_xgb_res_1['macro avg']['f1-score'])\n",
    "print('accuracy:', w2v_xgb_res_1['accuracy'])\n",
    "\n",
    "# MLP\n",
    "basic_mlp = MLPClassifier(alpha=0.001, batch_size=64, hidden_layer_sizes=(50, 50),\n",
    "              learning_rate_init=0.01, max_iter=400, random_state=291)\n",
    "s = time.time()\n",
    "basic_mlp = basic_mlp.fit(norm_basic_X_trainval, basic_y_trainval)\n",
    "e = time.time()\n",
    "elapsed = e - s\n",
    "train_time_data['mlp'].append(elapsed)\n",
    "\n",
    "bow_mlp = MLPClassifier(alpha=0.01, batch_size=64, hidden_layer_sizes=(50, 50),\n",
    "              learning_rate_init=0.01, max_iter=400, random_state=291,\n",
    "              solver='sgd')\n",
    "bow_mlp = bow_mlp.fit(norm_bow_X_trainval, bow_y_trainval)\n",
    "e = time.time()\n",
    "elapsed = e - s\n",
    "train_time_data['mlp'].append(elapsed)\n",
    "\n",
    "w2v_mlp = MLPClassifier(activation='tanh', alpha=0.001, batch_size=64,\n",
    "              hidden_layer_sizes=(50, 50), learning_rate='adaptive',\n",
    "              learning_rate_init=0.1, max_iter=400, random_state=291,\n",
    "              solver='sgd')\n",
    "s = time.time()\n",
    "w2v_mlp = w2v_mlp.fit(norm_w2v_X_trainval, w2v_y_trainval)\n",
    "e = time.time()\n",
    "elapsed = e - s\n",
    "train_time_data['mlp'].append(elapsed)\n",
    "\n",
    "s = time.time()\n",
    "_, basic_mlp_res_1 = evaluate(norm_basic_X_test, basic_y_test, basic_mlp)\n",
    "e = time.time()\n",
    "elapsed = e - s\n",
    "pred_time_data['mlp'].append(elapsed)\n",
    "print('MLP Basic')\n",
    "print('f1 score:', basic_mlp_res_1['macro avg']['f1-score'])\n",
    "print('accuracy:', basic_mlp_res_1['accuracy'])\n",
    "\n",
    "s = time.time()\n",
    "_, bow_mlp_res_1 = evaluate(norm_bow_X_test, bow_y_test, bow_mlp)\n",
    "e = time.time()\n",
    "elapsed = e - s\n",
    "pred_time_data['mlp'].append(elapsed)\n",
    "print('MLP BOW')\n",
    "print('f1 score:', bow_mlp_res_1['macro avg']['f1-score'])\n",
    "print('accuracy:', bow_mlp_res_1['accuracy'])\n",
    "\n",
    "s = time.time()\n",
    "_, w2v_mlp_res_1 = evaluate(norm_w2v_X_test, w2v_y_test, w2v_mlp)\n",
    "e = time.time()\n",
    "elapsed = e - s\n",
    "pred_time_data['mlp'].append(elapsed)\n",
    "print('MLP W2V')\n",
    "print('f1 score:', w2v_mlp_res_1['macro avg']['f1-score'])\n",
    "print('accuracy:', w2v_mlp_res_1['accuracy'])"
   ]
  },
  {
   "cell_type": "code",
   "execution_count": 50,
   "id": "47a6b67c",
   "metadata": {},
   "outputs": [
    {
     "data": {
      "image/png": "[encoded data removed]",
      "text/plain": [
       "<Figure size 640x480 with 1 Axes>"
      ]
     },
     "metadata": {},
     "output_type": "display_data"
    }
   ],
   "source": [
    "models = ['SVM', 'RF', 'XGB', 'MLP']\n",
    "features = ['basic', 'bow', 'w2v']\n",
    "all_accuracy = [\n",
    "    [0.8592592592592593, 0.9111111111111111, 0.5555555555555556],  # SVM\n",
    "    [0.7777777777777778, 0.9037037037037037, 0.8481481481481481],  # RF\n",
    "    [0.837037037037037, 0.8925925925925926, 0.8148148148148148],   # XGB\n",
    "    [0.837037037037037, 0.8814814814814815, 0.8074074074074075]    # MLP\n",
    "]\n",
    "\n",
    "\n",
    "n_models = len(models)\n",
    "n_features = len(features)\n",
    "\n",
    "bar_width = 0.2\n",
    "index = np.arange(n_models)\n",
    "\n",
    "fig, ax = plt.subplots()\n",
    "\n",
    "for i in range(n_features):\n",
    "    plt.bar(index + i * bar_width, [acc[i] for acc in all_accuracy], bar_width, label=features[i])\n",
    "\n",
    "plt.xlabel('Models')\n",
    "plt.ylabel('Accuracy')\n",
    "plt.title('Test Accuracies of Various Models with Different Features')\n",
    "plt.xticks(index + bar_width * (n_features - 1) / 2, models)\n",
    "plt.legend(loc='upper right', bbox_to_anchor=(1.25, 1))\n",
    "\n",
    "plt.tight_layout() \n",
    "plt.savefig('test_accuracies.png')\n",
    "\n",
    "plt.show()"
   ]
  },
  {
   "cell_type": "code",
   "execution_count": 57,
   "id": "d99511ae",
   "metadata": {},
   "outputs": [
    {
     "data": {
      "image/png": "[encoded data removed]",
      "text/plain": [
       "<Figure size 640x480 with 1 Axes>"
      ]
     },
     "metadata": {},
     "output_type": "display_data"
    }
   ],
   "source": [
    "models = ['SVM', 'RF', 'XGB', 'MLP']\n",
    "features = ['basic', 'bow', 'w2v']\n",
    "all_f1 = [\n",
    "    [0.7964285714285715, 0.8883066740209598, 0.554945054945055],  # SVM\n",
    "    [0.7230769230769231, 0.8696524064171123, 0.7933892009929264], # RF\n",
    "    [0.7816337034041615, 0.8697843042690127, 0.7746394230769231], # XGB\n",
    "    [0.769696029776675, 0.8523076923076922, 0.76]                 # MLP\n",
    "]\n",
    "\n",
    "n_models = len(models)\n",
    "n_features = len(features)\n",
    "\n",
    "bar_width = 0.2\n",
    "index = np.arange(n_models)\n",
    "\n",
    "fig, ax = plt.subplots()\n",
    "\n",
    "for i in range(n_features):\n",
    "    plt.bar(index + i * bar_width, [f1[i] for f1 in all_f1], bar_width, label=features[i])\n",
    "\n",
    "plt.xlabel('Models')\n",
    "plt.ylabel('Accuracy')\n",
    "plt.title('Test Macro F1-Score of Various Models with Different Features')\n",
    "plt.xticks(index + bar_width * (n_features - 1) / 2, models)\n",
    "plt.legend(loc='upper right', bbox_to_anchor=(1.25, 1))\n",
    "\n",
    "plt.tight_layout() \n",
    "plt.savefig('test_f1.png')\n",
    "\n",
    "plt.show()"
   ]
  },
  {
   "cell_type": "code",
   "execution_count": 55,
   "id": "5a8dacc7",
   "metadata": {},
   "outputs": [
    {
     "name": "stdout",
     "output_type": "stream",
     "text": [
      "Train Time: On Basic, BOW, and W2V\n",
      "svc\n",
      "[0.031121015548706055, 0.6041316986083984, 0.5423200130462646]\n",
      "rf\n",
      "[0.06961703300476074, 0.07062888145446777, 0.2856569290161133]\n",
      "xgb\n",
      "[0.04040718078613281, 0.2539091110229492, 0.2082839012145996]\n",
      "mlp\n",
      "[0.1407480239868164, 6.278486013412476, 4.254907131195068]\n",
      "Prediction Time: On Basic, BOW, and W2V\n",
      "svc\n",
      "[0.005435943603515625, 0.13843297958374023, 0.005554914474487305]\n",
      "rf\n",
      "[0.004568815231323242, 0.0032608509063720703, 0.003186941146850586]\n",
      "xgb\n",
      "[0.0023610591888427734, 0.0029501914978027344, 0.0020558834075927734]\n",
      "mlp\n",
      "[0.005695819854736328, 0.0056819915771484375, 0.00482487678527832]\n"
     ]
    }
   ],
   "source": [
    "models = ['svc', 'rf', 'xgb', 'mlp']\n",
    "print(\"Train Time: On Basic, BOW, and W2V\")\n",
    "for m in models:\n",
    "    print(m)\n",
    "    print(train_time_data[m])\n",
    "print(\"Prediction Time: On Basic, BOW, and W2V\")\n",
    "for m in models:\n",
    "    print(m)\n",
    "    print(pred_time_data[m])"
   ]
  },
  {
   "cell_type": "code",
   "execution_count": null,
   "id": "da460022",
   "metadata": {},
   "outputs": [],
   "source": []
  }
 ],
 "metadata": {
  "kernelspec": {
   "display_name": "Python 3 (ipykernel)",
   "language": "python",
   "name": "python3"
  },
  "language_info": {
   "codemirror_mode": {
    "name": "ipython",
    "version": 3
   },
   "file_extension": ".py",
   "mimetype": "text/x-python",
   "name": "python",
   "nbconvert_exporter": "python",
   "pygments_lexer": "ipython3",
   "version": "3.11.5"
  }
 },
 "nbformat": 4,
 "nbformat_minor": 5
}
