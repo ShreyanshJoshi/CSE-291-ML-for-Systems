{
 "cells": [
  {
   "cell_type": "code",
   "execution_count": 1,
   "metadata": {},
   "outputs": [],
   "source": [
    "import json\n",
    "import csv\n",
    "import pymysql\n",
    "import sqlite3\n",
    "import time\n",
    "import re\n",
    "import os\n",
    "import signal\n",
    "from collections import defaultdict"
   ]
  },
  {
   "cell_type": "code",
   "execution_count": 2,
   "metadata": {},
   "outputs": [
    {
     "name": "stdout",
     "output_type": "stream",
     "text": [
      "/home/hemilp/CSE_291_Virt/CSE-291-ML-for-Systems/code\n"
     ]
    }
   ],
   "source": [
    "!pwd"
   ]
  },
  {
   "cell_type": "markdown",
   "metadata": {},
   "source": [
    "### Extracting queries"
   ]
  },
  {
   "cell_type": "code",
   "execution_count": 3,
   "metadata": {},
   "outputs": [],
   "source": [
    "sqlite_dbs = ['car_1', 'wine_1', 'student_1', 'inn_1', 'flight_1', 'formula_1', 'restaurants']\n",
    "# sqlite_dbs = ['car_1', 'wine_1', 'student_1', 'inn_1', 'flight_1', 'formula_1']\n",
    "mysql_dbs = ['advising', 'atis', 'geography', 'imdb']\n",
    "\n",
    "independent_dbs = ['advising', 'atis', 'geography', 'restaurants', 'imdb']\n",
    "spider_dbs = set(['car_1', 'wine_1', 'student_1', 'inn_1', 'flight_1', 'formula_1'])\n",
    "\n",
    "json_data_dir = '../data/json/'\n",
    "csv_data_dir = '../data/csv/'"
   ]
  },
  {
   "cell_type": "code",
   "execution_count": 4,
   "metadata": {},
   "outputs": [],
   "source": [
    "def get_queries(db):\n",
    "    # spider.json contains query for 6 different dbs\n",
    "    spider = False\n",
    "    if db == \"spider\":\n",
    "        spider = True\n",
    "        \n",
    "    queryFile = os.path.join(json_data_dir, f'{db}.json')\n",
    "                             \n",
    "    # Open the JSON file and load its contents\n",
    "    with open(queryFile, \"r\") as file:\n",
    "        data = json.load(file)\n",
    "\n",
    "    query_dict = defaultdict(list)\n",
    "    for d in data:\n",
    "        variables = d['variables']\n",
    "        sql_queries = d['sql']\n",
    "\n",
    "        if spider and d[\"sentences\"][0][\"database\"] not in spider_dbs:\n",
    "            continue\n",
    "\n",
    "        # replacing each occurrence of a particular variable in any of the queries\n",
    "        for sql_query in sql_queries:\n",
    "            query = sql_query\n",
    "            for var in variables:\n",
    "                query = query.replace(var['name'], var['example'])\n",
    "                \n",
    "            if spider:\n",
    "                query = re.sub(r'\\( .+\\.\\* \\)', '( * )', query)\n",
    "                query_dict[d[\"sentences\"][0][\"database\"]].append(query)\n",
    "            else:\n",
    "                query_dict[db].append(query)\n",
    "    \n",
    "    return query_dict"
   ]
  },
  {
   "cell_type": "code",
   "execution_count": 5,
   "metadata": {},
   "outputs": [
    {
     "name": "stdout",
     "output_type": "stream",
     "text": [
      "car_1 45\n",
      "wine_1 41\n",
      "student_1 27\n",
      "formula_1 40\n",
      "inn_1 36\n",
      "flight_1 48\n"
     ]
    }
   ],
   "source": [
    "# Get queries for dbs in spider.json\n",
    "spider_query_dict = get_queries('spider')\n",
    "for db in spider_dbs:\n",
    "    query_list = spider_query_dict[db]\n",
    "    with open(os.path.join(csv_data_dir, f'{db}.csv'), 'w', newline='') as csvfile:\n",
    "        writer = csv.writer(csvfile)\n",
    "        writer.writerow(['query'])\n",
    "        print(db, len(query_list))\n",
    "        for query in query_list:\n",
    "            writer.writerow([query])"
   ]
  },
  {
   "cell_type": "code",
   "execution_count": 6,
   "metadata": {},
   "outputs": [
    {
     "name": "stdout",
     "output_type": "stream",
     "text": [
      "yelp 122\n"
     ]
    }
   ],
   "source": [
    "# Get queries for independent dbs\n",
    "# for db in independent_dbs:\n",
    "for db in ['yelp']:\n",
    "    query_list = get_queries(db)[db]\n",
    "    with open(os.path.join(csv_data_dir, f'{db}.csv'), 'w', newline='') as csvfile:\n",
    "        writer = csv.writer(csvfile)\n",
    "        writer.writerow(['query'])\n",
    "        print(db, len(query_list))\n",
    "        for query in query_list:\n",
    "            writer.writerow([query])"
   ]
  },
  {
   "cell_type": "code",
   "execution_count": 7,
   "metadata": {},
   "outputs": [
    {
     "ename": "FileNotFoundError",
     "evalue": "[Errno 2] No such file or directory: './data/json'",
     "output_type": "error",
     "traceback": [
      "\u001b[0;31m---------------------------------------------------------------------------\u001b[0m",
      "\u001b[0;31mFileNotFoundError\u001b[0m                         Traceback (most recent call last)",
      "\u001b[0;32m/tmp/ipykernel_35864/905806939.py\u001b[0m in \u001b[0;36m<module>\u001b[0;34m\u001b[0m\n\u001b[1;32m      5\u001b[0m \u001b[0;34m\u001b[0m\u001b[0m\n\u001b[1;32m      6\u001b[0m \u001b[0;32mimport\u001b[0m \u001b[0mos\u001b[0m\u001b[0;34m\u001b[0m\u001b[0;34m\u001b[0m\u001b[0m\n\u001b[0;32m----> 7\u001b[0;31m \u001b[0;32mfor\u001b[0m \u001b[0mfilename\u001b[0m \u001b[0;32min\u001b[0m \u001b[0mos\u001b[0m\u001b[0;34m.\u001b[0m\u001b[0mlistdir\u001b[0m\u001b[0;34m(\u001b[0m\u001b[0;34m'./data/json'\u001b[0m\u001b[0;34m)\u001b[0m\u001b[0;34m:\u001b[0m\u001b[0;34m\u001b[0m\u001b[0;34m\u001b[0m\u001b[0m\n\u001b[0m\u001b[1;32m      8\u001b[0m     \u001b[0;32mif\u001b[0m \u001b[0mfilename\u001b[0m\u001b[0;34m.\u001b[0m\u001b[0mendswith\u001b[0m\u001b[0;34m(\u001b[0m\u001b[0;34m'spider.json'\u001b[0m\u001b[0;34m)\u001b[0m\u001b[0;34m:\u001b[0m\u001b[0;34m\u001b[0m\u001b[0;34m\u001b[0m\u001b[0m\n\u001b[1;32m      9\u001b[0m         \u001b[0mall_queries\u001b[0m\u001b[0;34m.\u001b[0m\u001b[0mextend\u001b[0m\u001b[0;34m(\u001b[0m\u001b[0mget_queries\u001b[0m\u001b[0;34m(\u001b[0m\u001b[0;34mf'./data/json/{filename}'\u001b[0m\u001b[0;34m)\u001b[0m\u001b[0;34m)\u001b[0m\u001b[0;34m\u001b[0m\u001b[0;34m\u001b[0m\u001b[0m\n",
      "\u001b[0;31mFileNotFoundError\u001b[0m: [Errno 2] No such file or directory: './data/json'"
     ]
    }
   ],
   "source": [
    "all_queries = []\n",
    "\n",
    "# all_queries.extend(get_queries(\"./atis.json\"))\n",
    "queries = dict()\n",
    "\n",
    "import os\n",
    "for filename in os.listdir('./data/json'):\n",
    "    if filename.endswith('spider.json'):\n",
    "        all_queries.extend(get_queries(f'./data/json/{filename}'))\n",
    "        queries[filename] = get_queries(f'./data/json/{filename}')\n",
    "\n",
    "    \n",
    "print(len(all_queries))"
   ]
  },
  {
   "cell_type": "code",
   "execution_count": 14,
   "metadata": {},
   "outputs": [
    {
     "name": "stdout",
     "output_type": "stream",
     "text": [
      "spider.json: 40\n"
     ]
    }
   ],
   "source": [
    "len(all_queries)\n",
    "for filename in os.listdir('.'):\n",
    "    if filename.endswith('spider.json'):\n",
    "        print(f'{filename}: {len(queries[filename])}')"
   ]
  },
  {
   "cell_type": "code",
   "execution_count": 15,
   "metadata": {},
   "outputs": [
    {
     "name": "stdout",
     "output_type": "stream",
     "text": [
      "{'customers_and_addresses', 'manufacturer', 'medicine_enzyme_interaction', 'climbing', 'customers_campaigns_ecommerce', 'geo', 'department_store', 'scholar', 'riding_club', 'device', 'club_1', 'department_management', 'cre_Theme_park', 'wedding', 'behavior_monitoring', 'journal_committee', 'train_station', 'game_injury', 'flight_2', 'product_catalog', 'company_employee', 'county_public_safety', 'phone_market', 'hr_1', 'assets_maintenance', 'sakila_1', 'race_track', 'tracking_orders', 'small_bank_1', 'college_1', 'orchestra', 'hospital_1', 'performance_attendance', 'customer_complaints', 'company_1', 'pets_1', 'tracking_software_problems', 'workshop_paper', 'company_office', 'apartment_rentals', 'machine_repair', 'flight_1', 'music_2', 'customers_card_transactions', 'local_govt_and_lot', 'shop_membership', 'party_people', 'network_1', 'wta_1', 'election', 'document_management', 'poker_player', 'scientist_1', 'museum_visit', 'products_for_hire', 'movie_1', 'news_report', 'game_1', 'school_finance', 'student_assessment', 'insurance_fnol', 'local_govt_mdm', 'allergy_1', 'entrepreneur', 'storm_record', 'phone_1', 'restaurant_1', 'employee_hire_evaluation', 'concert_singer', 'election_representative', 'theme_gallery', 'cre_Docs_and_Epenses', 'singer', 'imdb', 'book_2', 'products_gen_characteristics', 'mountain_photos', 'aircraft', 'insurance_policies', 'school_bus', 'music_1', 'film_rank', 'college_3', 'program_share', 'swimming', 'college_2', 'cre_Drama_Workshop_Groups', 'gymnast', 'local_govt_in_alabama', 'sports_competition', 'voter_2', 'world_1', 'flight_4', 'yelp', 'station_weather', 'icfp_1', 'customers_and_invoices', 'perpetrator', 'gas_company', 'roller_coaster', 'culture_company', 'school_player', 'baseball_1', 'inn_1', 'car_1', 'tracking_grants_for_research', 'architecture', 'party_host', 'customers_and_products_contacts', 'tracking_share_transactions', 'course_teach', 'coffee_shop', 'dog_kennels', 'wrestler', 'musical', 'browser_web', 'entertainment_awards', 'match_season', 'farm', 'loan_1', 'student_transcripts_tracking', 'epinions_1', 'chinook_1', 'e_government', 'university_basketball', 'csu_1', 'real_estate_properties', 'student_1', 'store_product', 'wine_1', 'restaurants', 'soccer_1', 'music_4', 'soccer_2', 'protein_institute', 'flight_company', 'manufactory_1', 'decoration_competition', 'store_1', 'voter_1', 'driving_school', 'tvshow', 'activity_1', 'cre_Doc_Control_Systems', 'dorm_1', 'railway', 'customer_deliveries', 'body_builder', 'debate', 'formula_1', 'twitter_1', 'ship_1', 'cre_Doc_Template_Mgt', 'battle_death', 'bike_1', 'ship_mission', 'network_2', 'insurance_and_eClaims', 'cinema', 'academic', 'cre_Doc_Tracking_DB', 'city_record', 'solvency_ii', 'pilot_record', 'e_learning', 'candidate_poll'}\n",
      "166\n"
     ]
    }
   ],
   "source": [
    "s = set()\n",
    "with open('./spider.json', 'r') as f:\n",
    "    data = json.load(f)\n",
    "\n",
    "for i in range(len(data)):\n",
    "    sentences = data[i][\"sentences\"]\n",
    "    for sentence in sentences:\n",
    "        s.add(sentence[\"database\"])\n",
    "\n",
    "print(s)\n",
    "print(len(s))"
   ]
  },
  {
   "cell_type": "code",
   "execution_count": 4,
   "metadata": {},
   "outputs": [
    {
     "ename": "NameError",
     "evalue": "name 'all_queries' is not defined",
     "output_type": "error",
     "traceback": [
      "\u001b[0;31m---------------------------------------------------------------------------\u001b[0m",
      "\u001b[0;31mNameError\u001b[0m                                 Traceback (most recent call last)",
      "Cell \u001b[0;32mIn[4], line 4\u001b[0m\n\u001b[1;32m      2\u001b[0m writer \u001b[38;5;241m=\u001b[39m csv\u001b[38;5;241m.\u001b[39mwriter(csvfile)\n\u001b[1;32m      3\u001b[0m writer\u001b[38;5;241m.\u001b[39mwriterow([\u001b[38;5;124m'\u001b[39m\u001b[38;5;124mquery\u001b[39m\u001b[38;5;124m'\u001b[39m])\n\u001b[0;32m----> 4\u001b[0m \u001b[38;5;28;01mfor\u001b[39;00m query \u001b[38;5;129;01min\u001b[39;00m all_queries:\n\u001b[1;32m      5\u001b[0m     writer\u001b[38;5;241m.\u001b[39mwriterow([query])\n",
      "\u001b[0;31mNameError\u001b[0m: name 'all_queries' is not defined"
     ]
    }
   ],
   "source": [
    "with open('./data.csv', 'w', newline='') as csvfile:\n",
    "    writer = csv.writer(csvfile)\n",
    "    writer.writerow(['query'])\n",
    "    for query in all_queries:\n",
    "        writer.writerow([query])"
   ]
  },
  {
   "cell_type": "markdown",
   "metadata": {},
   "source": [
    "### Obtaining execution time\n",
    "\n",
    "At this point, we have all the queries. Now, we write a script to run the queries one by one and store their execution times in the CSV file."
   ]
  },
  {
   "cell_type": "code",
   "execution_count": 8,
   "metadata": {},
   "outputs": [],
   "source": [
    "runtime_data_dir = \"../data/runtime\"\n",
    "\n",
    "if not os.path.exists(runtime_data_dir):\n",
    "    os.makedir(runtime_data_dir)"
   ]
  },
  {
   "cell_type": "code",
   "execution_count": 14,
   "metadata": {},
   "outputs": [],
   "source": [
    "# excute sqlite queries\n",
    "with open(os.path.join(runtime_data_dir, f'query-runtime-spider.csv'), 'w', newline='') as outfile:\n",
    "    query_writer = csv.writer(outfile)\n",
    "    \n",
    "    for i, db in enumerate(spider_dbs):\n",
    "        sqlite_file = f'./data/db/{db}.sqlite'\n",
    "\n",
    "        connection = sqlite3.connect(sqlite_file)\n",
    "\n",
    "        cursor = connection.cursor()\n",
    "\n",
    "        with open(os.path.join(csv_data_dir, f'{db}.csv'), newline='') as csvfile:\n",
    "            query_reader = csv.reader(csvfile)\n",
    "            rows = list(query_reader)\n",
    "\n",
    "        # Add header for the \"running time\" column\n",
    "        if i == 0:\n",
    "            rows[0].append('runtime (ms)')\n",
    "            rows[0].append('db')\n",
    "            rows[0].append('engine')\n",
    "            query_writer.writerows(rows[0:1])\n",
    "\n",
    "        for j, row in enumerate(rows[1:]):\n",
    "            start_time = time.time()\n",
    "            sql_query = row[0]\n",
    "            try:\n",
    "                cursor.execute(sql_query)\n",
    "            except:\n",
    "                print(f'Line {j+2}: {sql_query}')\n",
    "                continue\n",
    "            cursor.connection.commit()\n",
    "            end_time = time.time()\n",
    "            running_time = (end_time - start_time) * 1000\n",
    "            row.append(running_time)\n",
    "            row.append(db)\n",
    "            row.append('sqlite')\n",
    "            \n",
    "            cursor.execute(\"PRAGMA cache_size=0;\")\n",
    "            cursor.connection.commit()\n",
    "\n",
    "            query_writer.writerow(row)\n",
    "\n",
    "        cursor.close()\n",
    "        connection.close()"
   ]
  },
  {
   "cell_type": "code",
   "execution_count": 12,
   "metadata": {},
   "outputs": [
    {
     "name": "stdout",
     "output_type": "stream",
     "text": [
      "\u001b[34m==>\u001b[0m \u001b[1mSuccessfully started `mysql` (label: homebrew.mxcl.mysql)\u001b[0m\r\n"
     ]
    }
   ],
   "source": [
    "!brew services start mysql"
   ]
  },
  {
   "cell_type": "code",
   "execution_count": 13,
   "metadata": {},
   "outputs": [
    {
     "name": "stdout",
     "output_type": "stream",
     "text": [
      "Line 50: SELECT NEIGHBORHOODalias0.NAME FROM BUSINESS AS BUSINESSalias0 , NEIGHBORHOOD AS NEIGHBORHOODalias0 , REVIEW AS REVIEWalias0 , USER AS USERalias0 WHERE NEIGHBORHOODalias0.BUSINESS_ID = BUSINESSalias0.BUSINESS_ID AND REVIEWalias0.BUSINESS_ID = BUSINESSalias0.BUSINESS_ID AND USERalias0.NAME = \"Michelle\" AND USERalias0.USER_ID = REVIEWalias0.USER_ID ;\n",
      "Line 84: SELECT COUNT( DISTINCT ( REVIEWalias0.TEXT ) ) , REVIEWalias0.MONTH FROM BUSINESS AS BUSINESSalias0 , REVIEW AS REVIEWalias0 , USER AS USERalias0 WHERE REVIEWalias0.BUSINESS_ID = BUSINESSalias0.BUSINESS_ID AND USERalias0.NAME = \"Michelle\" GROUP BY REVIEWalias0.MONTH ;\n"
     ]
    }
   ],
   "source": [
    "# To create local mysql instance\n",
    "# brew services start mysql\n",
    "# mysql -u root\n",
    "# DROP DATABASE IF EXISTS {db};\n",
    "# CREATE DATABASE {db};\n",
    "# USE {db};\n",
    "# source /path/to/{db}.sql\n",
    "# \\q\n",
    "# brew services stop mysql\n",
    "# excute mysql queries\n",
    "\n",
    "# Define a function to handle the timeout\n",
    "def timeout_handler(signum, frame):\n",
    "    raise TimeoutError(\"Query execution timed out\")\n",
    "\n",
    "# Set the signal alarm to trigger\n",
    "signal.signal(signal.SIGALRM, timeout_handler)\n",
    "    \n",
    "# with open(os.path.join(runtime_data_dir, f'query-runtime-spider.csv'), 'w', newline='') as outfile:\n",
    "with open(os.path.join(runtime_data_dir, f'query-runtime-yelp.csv'), 'w', newline='') as outfile:\n",
    "    query_writer = csv.writer(outfile)\n",
    "#     for i, db in enumerate(['car_1', 'student_1', 'inn_1', 'formula_1', 'restaurants']):\n",
    "    for i, db in enumerate(['yelp']):\n",
    "        connection = pymysql.connect(\n",
    "            host='localhost',\n",
    "            user='root',\n",
    "            password='',\n",
    "            database=db\n",
    "        )\n",
    "        \n",
    "        cursor = connection.cursor()\n",
    "        \n",
    "        cursor.execute(\"SET sql_mode=(SELECT REPLACE(@@sql_mode,'ONLY_FULL_GROUP_BY',''));\")\n",
    "        cursor.connection.commit()\n",
    "                \n",
    "        with open(os.path.join(csv_data_dir, f'{db}.csv'), newline='') as csvfile:\n",
    "            query_reader = csv.reader(csvfile)\n",
    "            row = next(query_reader)\n",
    "            if i == 0:\n",
    "                row.append('runtime (ms)')\n",
    "                row.append('db')\n",
    "                row.append('engine')\n",
    "                query_writer.writerows([row])\n",
    "\n",
    "            for j, row in enumerate(query_reader):\n",
    "                signal.alarm(60)  # Timeout after 60 seconds\n",
    "                \n",
    "                start_time = time.time()\n",
    "                sql_query = row[0]\n",
    "                try:\n",
    "                    cursor.execute(sql_query)\n",
    "                    cursor.connection.commit()\n",
    "                except TimeoutError:\n",
    "                    print(f'Line {j+2}: TimeoutError')\n",
    "                    continue\n",
    "                except:\n",
    "                    print(f'Line {j+2}: {sql_query}')\n",
    "                    continue\n",
    "                finally:\n",
    "                    signal.alarm(0)\n",
    "                    connection.ping(reconnect=True) # attempt to reconnect\n",
    "                \n",
    "                end_time = time.time()\n",
    "                running_time = (end_time - start_time) * 1000\n",
    "                row.append(running_time)\n",
    "                row.append(db)\n",
    "                row.append('mysql')\n",
    "\n",
    "                query_writer.writerow(row)\n",
    "                \n",
    "        cursor.close()\n",
    "        connection.close()"
   ]
  },
  {
   "cell_type": "code",
   "execution_count": 14,
   "metadata": {},
   "outputs": [
    {
     "name": "stdout",
     "output_type": "stream",
     "text": [
      "Stopping `mysql`... (might take a while)\n",
      "\u001b[34m==>\u001b[0m \u001b[1mSuccessfully stopped `mysql` (label: homebrew.mxcl.mysql)\u001b[0m\n"
     ]
    }
   ],
   "source": [
    "!brew services stop mysql"
   ]
  },
  {
   "cell_type": "code",
   "execution_count": 5,
   "metadata": {},
   "outputs": [
    {
     "name": "stdout",
     "output_type": "stream",
     "text": [
      "Concatenation complete\n"
     ]
    }
   ],
   "source": [
    "# Merge all the runtime files\n",
    "dbs = ['advising', 'atis', 'geography', 'restaurants', 'imdb', 'spider']\n",
    "\n",
    "output_file = os.path.join(runtime_data_dir, f'query-runtime-all.csv')\n",
    "\n",
    "# Open the output CSV file in write mode\n",
    "with open(output_file, 'w', newline='') as csvfile:\n",
    "    writer = csv.writer(csvfile)\n",
    "\n",
    "    # Iterate over each input file\n",
    "    for i, db in enumerate(dbs):\n",
    "        input_file = os.path.join(runtime_data_dir, f'query-runtime-{db}.csv')\n",
    "        # Open the input CSV file\n",
    "        with open(input_file, 'r', newline='') as infile:\n",
    "            reader = csv.reader(infile)\n",
    "            \n",
    "            header = next(reader)\n",
    "            if i == 0:\n",
    "                writer.writerow(header)\n",
    "                \n",
    "            # Iterate over each row in the input file\n",
    "            for row in reader:\n",
    "                # Write the row to the output CSV file\n",
    "                writer.writerow(row)\n",
    "\n",
    "print(\"Concatenation complete\")"
   ]
  },
  {
   "cell_type": "code",
   "execution_count": 35,
   "metadata": {},
   "outputs": [
    {
     "name": "stdout",
     "output_type": "stream",
     "text": [
      "<bound method NDFrame.head of                                                   query  runtime (ms)  \\\n",
      "0     SELECT DISTINCT COURSEalias0.ADVISORY_REQUIREM...      8.092165   \n",
      "1     SELECT DISTINCT COURSEalias0.DEPARTMENT , COUR...      0.772238   \n",
      "2     SELECT DISTINCT COURSEalias0.DEPARTMENT , COUR...      0.530958   \n",
      "3     SELECT COUNT( * ) > 0 FROM COURSE AS COURSEali...     92.988014   \n",
      "4     SELECT DISTINCT COURSEalias0.DEPARTMENT , COUR...      1.093864   \n",
      "...                                                 ...           ...   \n",
      "1910  SELECT MAX( RESULTSalias0.FASTESTLAPSPEED ) , ...      1.104116   \n",
      "1911  SELECT AVG( RESULTSalias0.FASTESTLAPSPEED ) , ...      1.092196   \n",
      "1912  SELECT COUNT( * ) , DRIVERSalias0.DRIVERID , D...     16.340971   \n",
      "1913  SELECT COUNT( * ) , DRIVERSalias0.DRIVERID FRO...     15.832901   \n",
      "1914  SELECT DRIVERSalias0.DRIVERID , DRIVERSalias0....     17.425776   \n",
      "\n",
      "             db  engine  \n",
      "0      advising   mysql  \n",
      "1      advising   mysql  \n",
      "2      advising   mysql  \n",
      "3      advising   mysql  \n",
      "4      advising   mysql  \n",
      "...         ...     ...  \n",
      "1910  formula_1  sqlite  \n",
      "1911  formula_1  sqlite  \n",
      "1912  formula_1  sqlite  \n",
      "1913  formula_1  sqlite  \n",
      "1914  formula_1  sqlite  \n",
      "\n",
      "[1915 rows x 4 columns]>\n",
      "query           False\n",
      "runtime (ms)    False\n",
      "db              False\n",
      "engine          False\n",
      "dtype: bool\n"
     ]
    }
   ],
   "source": [
    "import pandas as pd\n",
    "df = pd.read_csv(os.path.join(runtime_data_dir, f'query-runtime-all.csv'))\n",
    "print(df.head)\n",
    "print(df.isnull().any())"
   ]
  },
  {
   "cell_type": "code",
   "execution_count": null,
   "metadata": {},
   "outputs": [],
   "source": []
  }
 ],
 "metadata": {
  "kernelspec": {
   "display_name": "Python 3 (ipykernel)",
   "language": "python",
   "name": "python3"
  },
  "language_info": {
   "codemirror_mode": {
    "name": "ipython",
    "version": 3
   },
   "file_extension": ".py",
   "mimetype": "text/x-python",
   "name": "python",
   "nbconvert_exporter": "python",
   "pygments_lexer": "ipython3",
   "version": "3.10.12"
  }
 },
 "nbformat": 4,
 "nbformat_minor": 2
}
