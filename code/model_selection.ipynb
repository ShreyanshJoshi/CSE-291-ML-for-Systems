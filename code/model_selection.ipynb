{
 "cells": [
  {
   "cell_type": "code",
   "execution_count": 77,
   "id": "b285c41e",
   "metadata": {},
   "outputs": [],
   "source": [
    "import os\n",
    "\n",
    "import numpy as np\n",
    "import pandas as pd\n",
    "from scipy.sparse import hstack\n",
    "import string\n",
    "\n",
    "from gensim.models import Word2Vec\n",
    "import xgboost as xgb\n",
    "\n",
    "from sklearn.feature_extraction.text import CountVectorizer\n",
    "from sklearn.model_selection import train_test_split\n",
    "from sklearn.preprocessing import MinMaxScaler\n",
    "from sklearn.ensemble import RandomForestClassifier\n",
    "from sklearn.svm import SVC\n",
    "from sklearn.metrics import accuracy_score\n",
    "from sklearn.metrics import classification_report\n",
    "from sklearn.model_selection import GridSearchCV"
   ]
  },
  {
   "cell_type": "code",
   "execution_count": 2,
   "id": "4feeb543",
   "metadata": {},
   "outputs": [],
   "source": [
    "seed = 291"
   ]
  },
  {
   "cell_type": "code",
   "execution_count": 3,
   "id": "76e668b1",
   "metadata": {},
   "outputs": [
    {
     "data": {
      "text/html": [
       "<div>\n",
       "<style scoped>\n",
       "    .dataframe tbody tr th:only-of-type {\n",
       "        vertical-align: middle;\n",
       "    }\n",
       "\n",
       "    .dataframe tbody tr th {\n",
       "        vertical-align: top;\n",
       "    }\n",
       "\n",
       "    .dataframe thead th {\n",
       "        text-align: right;\n",
       "    }\n",
       "</style>\n",
       "<table border=\"1\" class=\"dataframe\">\n",
       "  <thead>\n",
       "    <tr style=\"text-align: right;\">\n",
       "      <th></th>\n",
       "      <th>query</th>\n",
       "      <th>runtime (ms)</th>\n",
       "      <th>query_complexity</th>\n",
       "      <th>runtime_boolean</th>\n",
       "      <th>table_size</th>\n",
       "    </tr>\n",
       "  </thead>\n",
       "  <tbody>\n",
       "    <tr>\n",
       "      <th>0</th>\n",
       "      <td>select distinct coursealias0advisory_requireme...</td>\n",
       "      <td>8.092165</td>\n",
       "      <td>1</td>\n",
       "      <td>1</td>\n",
       "      <td>11453</td>\n",
       "    </tr>\n",
       "    <tr>\n",
       "      <th>1</th>\n",
       "      <td>select distinct coursealias0department coursea...</td>\n",
       "      <td>0.772238</td>\n",
       "      <td>1</td>\n",
       "      <td>0</td>\n",
       "      <td>11531</td>\n",
       "    </tr>\n",
       "    <tr>\n",
       "      <th>2</th>\n",
       "      <td>select distinct coursealias0department coursea...</td>\n",
       "      <td>0.530958</td>\n",
       "      <td>1</td>\n",
       "      <td>0</td>\n",
       "      <td>11531</td>\n",
       "    </tr>\n",
       "    <tr>\n",
       "      <th>3</th>\n",
       "      <td>select count 0 from course as coursealias0 cou...</td>\n",
       "      <td>92.988014</td>\n",
       "      <td>0</td>\n",
       "      <td>1</td>\n",
       "      <td>326457</td>\n",
       "    </tr>\n",
       "    <tr>\n",
       "      <th>4</th>\n",
       "      <td>select distinct coursealias0department coursea...</td>\n",
       "      <td>1.093864</td>\n",
       "      <td>1</td>\n",
       "      <td>0</td>\n",
       "      <td>23060</td>\n",
       "    </tr>\n",
       "  </tbody>\n",
       "</table>\n",
       "</div>"
      ],
      "text/plain": [
       "                                               query  runtime (ms)  \\\n",
       "0  select distinct coursealias0advisory_requireme...      8.092165   \n",
       "1  select distinct coursealias0department coursea...      0.772238   \n",
       "2  select distinct coursealias0department coursea...      0.530958   \n",
       "3  select count 0 from course as coursealias0 cou...     92.988014   \n",
       "4  select distinct coursealias0department coursea...      1.093864   \n",
       "\n",
       "   query_complexity  runtime_boolean  table_size  \n",
       "0                 1                1       11453  \n",
       "1                 1                0       11531  \n",
       "2                 1                0       11531  \n",
       "3                 0                1      326457  \n",
       "4                 1                0       23060  "
      ]
     },
     "execution_count": 3,
     "metadata": {},
     "output_type": "execute_result"
    }
   ],
   "source": [
    "data_dir = \"../data/runtime\"\n",
    "data = pd.read_csv(os.path.join(data_dir, \"proccessed-data\"))\n",
    "data.head()"
   ]
  },
  {
   "cell_type": "code",
   "execution_count": 4,
   "id": "45743967",
   "metadata": {},
   "outputs": [],
   "source": [
    "labels = data['runtime_boolean']"
   ]
  },
  {
   "cell_type": "code",
   "execution_count": 84,
   "id": "7b7cc164",
   "metadata": {},
   "outputs": [],
   "source": [
    "x_basic = data[['query_complexity', 'table_size']].copy()"
   ]
  },
  {
   "cell_type": "markdown",
   "id": "631ab2ea",
   "metadata": {},
   "source": [
    "## BoW (CountVectorizer)"
   ]
  },
  {
   "cell_type": "code",
   "execution_count": 6,
   "id": "ff6b04dd",
   "metadata": {},
   "outputs": [
    {
     "name": "stdout",
     "output_type": "stream",
     "text": [
      "(1799, 1439)\n"
     ]
    }
   ],
   "source": [
    "bow_features = data['query'].copy()\n",
    "vectorizer = CountVectorizer()\n",
    "bow_features = vectorizer.fit_transform(bow_features)\n",
    "additional_features = data[['query_complexity', 'table_size']].values\n",
    "x_bow = hstack([bow_features, additional_features])\n",
    "print(x_bow.shape)"
   ]
  },
  {
   "cell_type": "markdown",
   "id": "76efcdb9",
   "metadata": {},
   "source": [
    "## Word2Vec"
   ]
  },
  {
   "cell_type": "code",
   "execution_count": 10,
   "id": "9f16d863",
   "metadata": {},
   "outputs": [],
   "source": [
    "w2v_features = data['query'].apply(lambda x: x.lower().split())\n",
    "translator = str.maketrans('', '', string.punctuation)\n",
    "w2v_features = [[word for word in query if word.translate(translator) != ''] for query in w2v_features]"
   ]
  },
  {
   "cell_type": "code",
   "execution_count": 11,
   "id": "2ce87004",
   "metadata": {},
   "outputs": [],
   "source": [
    "word2vec_model = Word2Vec(w2v_features, window=5, min_count=1, workers=4)"
   ]
  },
  {
   "cell_type": "code",
   "execution_count": 12,
   "id": "f2c2de51",
   "metadata": {},
   "outputs": [
    {
     "name": "stdout",
     "output_type": "stream",
     "text": [
      "(1799, 102)\n"
     ]
    }
   ],
   "source": [
    "word_embeddings = {word: word2vec_model.wv[word] for word in word2vec_model.wv.key_to_index.keys()}\n",
    "w2v_mean_features = np.array([np.mean([word_embeddings[word] for word in query], axis=0) for query in w2v_features])\n",
    "x_w2v = np.hstack([w2v_mean_features, additional_features])\n",
    "print(x_w2v.shape)"
   ]
  },
  {
   "cell_type": "code",
   "execution_count": 85,
   "id": "2f5a5277",
   "metadata": {},
   "outputs": [],
   "source": [
    "def train_valid_test_split(X, y, test_size=0.15, valid_size=0.15, random_state=seed):\n",
    "    valid_perc = valid_size / (1. - test_size)\n",
    "    X_trainval, X_test, y_trainval, y_test = train_test_split(X, y, test_size=test_size, random_state=random_state)\n",
    "    X_train, X_val, y_train, y_val = train_test_split(X_trainval, y_trainval, test_size=valid_perc, random_state=random_state)\n",
    "    return X_train, y_train, X_val, y_val, X_test, y_test, X_trainval, y_trainval"
   ]
  },
  {
   "cell_type": "code",
   "execution_count": 86,
   "id": "d2dc0ccc",
   "metadata": {},
   "outputs": [],
   "source": [
    "# train, validation, test split (70:15:15)\n",
    "basic_X_train, basic_y_train, basic_X_val, basic_y_val, basic_X_test, basic_y_test, basic_X_trainval, basic_y_trainval= train_valid_test_split(x_basic, labels)\n",
    "bow_X_train, bow_y_train, bow_X_val, bow_y_val, bow_X_test, bow_y_test, bow_X_trainval, bow_y_trainval= train_valid_test_split(x_bow, labels)\n",
    "w2v_X_train, w2v_y_train, w2v_X_val, w2v_y_val, w2v_X_test, w2v_y_test, w2v_X_trainval, w2v_y_trainval = train_valid_test_split(x_w2v, labels)"
   ]
  },
  {
   "cell_type": "code",
   "execution_count": 100,
   "id": "d18c82b1",
   "metadata": {},
   "outputs": [],
   "source": [
    "# normalize trainval data\n",
    "basic_trainval_scaler = MinMaxScaler()\n",
    "norm_basic_X_trainval = basic_trainval_scaler.fit_transform(basic_X_trainval)\n",
    "norm_basic_X_test = basic_trainval_scaler.fit_transform(basic_X_test)\n",
    "\n",
    "bow_trainval_scaler = MinMaxScaler()\n",
    "norm_bow_X_trainval = bow_trainval_scaler.fit_transform(bow_X_trainval.toarray())\n",
    "norm_bow_X_test = bow_trainval_scaler.fit_transform(bow_X_test.toarray())\n",
    "\n",
    "w2v_trainval_scaler = MinMaxScaler()\n",
    "norm_w2v_X_trainval = w2v_trainval_scaler.fit_transform(w2v_X_trainval)\n",
    "norm_w2v_X_test = w2v_trainval_scaler.fit_transform(w2v_X_test)"
   ]
  },
  {
   "cell_type": "markdown",
   "id": "575bda00",
   "metadata": {},
   "source": [
    "## SVM"
   ]
  },
  {
   "cell_type": "code",
   "execution_count": 96,
   "id": "eb0988bc",
   "metadata": {},
   "outputs": [],
   "source": [
    "svc_params = {\n",
    "    'C': [0.1, 1, 10, 100, 1000],\n",
    "    'kernel': ['linear', 'poly', 'rbf'],\n",
    "    'degree': [2, 3, 4],\n",
    "    'gamma': ['scale', 'auto']\n",
    "}"
   ]
  },
  {
   "cell_type": "code",
   "execution_count": 97,
   "id": "18324544",
   "metadata": {
    "scrolled": true
   },
   "outputs": [
    {
     "name": "stdout",
     "output_type": "stream",
     "text": [
      "Fitting 5 folds for each of 90 candidates, totalling 450 fits\n",
      "SVC(C=1000, degree=2, kernel='linear', max_iter=5000)\n",
      "0.8116339869281045\n"
     ]
    }
   ],
   "source": [
    "svc = SVC(max_iter=5000)\n",
    "basic_svc_clf = GridSearchCV(estimator=svc, param_grid=svc_params, cv=5, scoring='accuracy', verbose=1, n_jobs=-1)\n",
    "basic_svc_clf.fit(norm_basic_X_trainval, basic_y_trainval)\n",
    "print(basic_svc_clf.best_estimator_)\n",
    "print(basic_svc_clf.best_score_)"
   ]
  },
  {
   "cell_type": "code",
   "execution_count": 98,
   "id": "9175760f",
   "metadata": {},
   "outputs": [
    {
     "name": "stdout",
     "output_type": "stream",
     "text": [
      "Fitting 5 folds for each of 90 candidates, totalling 450 fits\n",
      "SVC(C=10, degree=2)\n",
      "0.887493839065681\n"
     ]
    }
   ],
   "source": [
    "svc = SVC()\n",
    "bow_svc_clf = GridSearchCV(estimator=svc, param_grid=svc_params, cv=5, scoring='accuracy', verbose=1, n_jobs=-1)\n",
    "bow_svc_clf.fit(norm_bow_X_trainval, bow_y_trainval)\n",
    "print(bow_svc_clf.best_estimator_)\n",
    "print(bow_svc_clf.best_score_)"
   ]
  },
  {
   "cell_type": "code",
   "execution_count": 101,
   "id": "bc59a6b4",
   "metadata": {},
   "outputs": [
    {
     "name": "stdout",
     "output_type": "stream",
     "text": [
      "Fitting 5 folds for each of 90 candidates, totalling 450 fits\n",
      "SVC(C=1000, degree=2)\n",
      "0.8776792028286724\n"
     ]
    }
   ],
   "source": [
    "svc = SVC()\n",
    "w2v_svc_clf = GridSearchCV(estimator=svc, param_grid=svc_params, cv=5, scoring='accuracy', verbose=1, n_jobs=-1)\n",
    "w2v_svc_clf.fit(norm_w2v_X_trainval, w2v_y_trainval)\n",
    "print(w2v_svc_clf.best_estimator_)\n",
    "print(w2v_svc_clf.best_score_)"
   ]
  },
  {
   "cell_type": "markdown",
   "id": "2265bf38",
   "metadata": {},
   "source": [
    "## Random Forest"
   ]
  },
  {
   "cell_type": "code",
   "execution_count": 102,
   "id": "9b920284",
   "metadata": {},
   "outputs": [],
   "source": [
    "rf_params = {\n",
    "    'n_estimators': [50, 100, 200],\n",
    "    'max_depth': [2, 5, 10, 20],\n",
    "    'min_samples_split': [2, 5, 10],\n",
    "    'min_samples_leaf': [1, 2, 4],\n",
    "    'criterion': ['gini', 'entropy']\n",
    "}"
   ]
  },
  {
   "cell_type": "code",
   "execution_count": 103,
   "id": "d2f5c091",
   "metadata": {},
   "outputs": [
    {
     "name": "stdout",
     "output_type": "stream",
     "text": [
      "Fitting 5 folds for each of 216 candidates, totalling 1080 fits\n",
      "RandomForestClassifier(max_depth=10, min_samples_split=5, n_estimators=50)\n",
      "0.8835636987035251\n"
     ]
    }
   ],
   "source": [
    "rf = RandomForestClassifier()\n",
    "basic_rf_clf = GridSearchCV(estimator=rf, param_grid=rf_params, cv=5, scoring='accuracy', verbose=1, n_jobs=-1)\n",
    "basic_rf_clf.fit(norm_basic_X_trainval, basic_y_trainval)\n",
    "print(basic_rf_clf.best_estimator_)\n",
    "print(basic_rf_clf.best_score_)"
   ]
  },
  {
   "cell_type": "code",
   "execution_count": 104,
   "id": "2131d775",
   "metadata": {},
   "outputs": [
    {
     "name": "stdout",
     "output_type": "stream",
     "text": [
      "Fitting 5 folds for each of 216 candidates, totalling 1080 fits\n",
      "RandomForestClassifier(criterion='entropy', max_depth=20, n_estimators=200)\n",
      "0.8874938390656808\n"
     ]
    }
   ],
   "source": [
    "rf = RandomForestClassifier()\n",
    "bow_rf_clf = GridSearchCV(estimator=rf, param_grid=rf_params, cv=5, scoring='accuracy', verbose=1, n_jobs=-1)\n",
    "bow_rf_clf.fit(norm_bow_X_trainval, bow_y_trainval)\n",
    "print(bow_rf_clf.best_estimator_)\n",
    "print(bow_rf_clf.best_score_)"
   ]
  },
  {
   "cell_type": "code",
   "execution_count": 105,
   "id": "d508a8eb",
   "metadata": {},
   "outputs": [
    {
     "name": "stdout",
     "output_type": "stream",
     "text": [
      "Fitting 5 folds for each of 216 candidates, totalling 1080 fits\n",
      "RandomForestClassifier(max_depth=20, min_samples_split=5, n_estimators=50)\n",
      "0.8874959819993571\n"
     ]
    }
   ],
   "source": [
    "rf = RandomForestClassifier()\n",
    "w2v_rf_clf = GridSearchCV(estimator=rf, param_grid=rf_params, cv=5, scoring='accuracy', verbose=1, n_jobs=-1)\n",
    "w2v_rf_clf.fit(norm_w2v_X_trainval, w2v_y_trainval)\n",
    "print(w2v_rf_clf.best_estimator_)\n",
    "print(w2v_rf_clf.best_score_)"
   ]
  },
  {
   "cell_type": "markdown",
   "id": "0e91a006",
   "metadata": {},
   "source": [
    "## XGBoost"
   ]
  },
  {
   "cell_type": "code",
   "execution_count": 106,
   "id": "37a2f229",
   "metadata": {},
   "outputs": [],
   "source": [
    "xgb_params = {\n",
    "    'n_estimators': [50, 100, 200],\n",
    "    'learning_rate': [0.01, 0.1, 0.2],\n",
    "    'max_depth': [3, 4, 5],\n",
    "    'subsample': [0.8, 0.9, 1.0],\n",
    "    'colsample_bytree': [0.8, 0.9, 1.0]\n",
    "}"
   ]
  },
  {
   "cell_type": "code",
   "execution_count": 107,
   "id": "9a45dddb",
   "metadata": {},
   "outputs": [
    {
     "name": "stdout",
     "output_type": "stream",
     "text": [
      "Fitting 5 folds for each of 243 candidates, totalling 1215 fits\n",
      "XGBClassifier(base_score=None, booster=None, callbacks=None,\n",
      "              colsample_bylevel=None, colsample_bynode=None,\n",
      "              colsample_bytree=1.0, device=None, early_stopping_rounds=None,\n",
      "              enable_categorical=False, eval_metric=None, feature_types=None,\n",
      "              gamma=None, grow_policy=None, importance_type=None,\n",
      "              interaction_constraints=None, learning_rate=0.2, max_bin=None,\n",
      "              max_cat_threshold=None, max_cat_to_onehot=None,\n",
      "              max_delta_step=None, max_depth=4, max_leaves=None,\n",
      "              min_child_weight=None, missing=nan, monotone_constraints=None,\n",
      "              multi_strategy=None, n_estimators=200, n_jobs=None,\n",
      "              num_parallel_tree=None, random_state=None, ...)\n",
      "0.8672174006214508\n"
     ]
    }
   ],
   "source": [
    "xgbc = xgb.XGBClassifier()\n",
    "basic_xgb_clf = GridSearchCV(estimator=xgbc, param_grid=xgb_params, cv=5, scoring='accuracy', verbose=1, n_jobs=-1)\n",
    "basic_xgb_clf.fit(norm_basic_X_trainval, basic_y_trainval)\n",
    "print(basic_xgb_clf.best_estimator_)\n",
    "print(basic_xgb_clf.best_score_)"
   ]
  },
  {
   "cell_type": "code",
   "execution_count": 108,
   "id": "37f756da",
   "metadata": {},
   "outputs": [
    {
     "name": "stdout",
     "output_type": "stream",
     "text": [
      "Fitting 5 folds for each of 243 candidates, totalling 1215 fits\n"
     ]
    },
    {
     "name": "stderr",
     "output_type": "stream",
     "text": [
      "/Users/kevkev/anaconda3/lib/python3.11/site-packages/joblib/externals/loky/process_executor.py:700: UserWarning: A worker stopped while some jobs were given to the executor. This can be caused by a too short worker timeout or by a memory leak.\n",
      "  warnings.warn(\n"
     ]
    },
    {
     "name": "stdout",
     "output_type": "stream",
     "text": [
      "XGBClassifier(base_score=None, booster=None, callbacks=None,\n",
      "              colsample_bylevel=None, colsample_bynode=None,\n",
      "              colsample_bytree=1.0, device=None, early_stopping_rounds=None,\n",
      "              enable_categorical=False, eval_metric=None, feature_types=None,\n",
      "              gamma=None, grow_policy=None, importance_type=None,\n",
      "              interaction_constraints=None, learning_rate=0.2, max_bin=None,\n",
      "              max_cat_threshold=None, max_cat_to_onehot=None,\n",
      "              max_delta_step=None, max_depth=4, max_leaves=None,\n",
      "              min_child_weight=None, missing=nan, monotone_constraints=None,\n",
      "              multi_strategy=None, n_estimators=200, n_jobs=None,\n",
      "              num_parallel_tree=None, random_state=None, ...)\n",
      "0.8959905710918248\n"
     ]
    }
   ],
   "source": [
    "xgbc = xgb.XGBClassifier()\n",
    "bow_xgb_clf = GridSearchCV(estimator=xgbc, param_grid=xgb_params, cv=5, scoring='accuracy', verbose=1, n_jobs=-1)\n",
    "bow_xgb_clf.fit(norm_bow_X_trainval, bow_y_trainval)\n",
    "print(bow_xgb_clf.best_estimator_)\n",
    "print(bow_xgb_clf.best_score_)"
   ]
  },
  {
   "cell_type": "code",
   "execution_count": 109,
   "id": "df7bd461",
   "metadata": {},
   "outputs": [
    {
     "name": "stdout",
     "output_type": "stream",
     "text": [
      "Fitting 5 folds for each of 243 candidates, totalling 1215 fits\n"
     ]
    },
    {
     "name": "stderr",
     "output_type": "stream",
     "text": [
      "/Users/kevkev/anaconda3/lib/python3.11/site-packages/joblib/externals/loky/process_executor.py:700: UserWarning: A worker stopped while some jobs were given to the executor. This can be caused by a too short worker timeout or by a memory leak.\n",
      "  warnings.warn(\n"
     ]
    },
    {
     "name": "stdout",
     "output_type": "stream",
     "text": [
      "XGBClassifier(base_score=None, booster=None, callbacks=None,\n",
      "              colsample_bylevel=None, colsample_bynode=None,\n",
      "              colsample_bytree=0.8, device=None, early_stopping_rounds=None,\n",
      "              enable_categorical=False, eval_metric=None, feature_types=None,\n",
      "              gamma=None, grow_policy=None, importance_type=None,\n",
      "              interaction_constraints=None, learning_rate=0.2, max_bin=None,\n",
      "              max_cat_threshold=None, max_cat_to_onehot=None,\n",
      "              max_delta_step=None, max_depth=3, max_leaves=None,\n",
      "              min_child_weight=None, missing=nan, monotone_constraints=None,\n",
      "              multi_strategy=None, n_estimators=200, n_jobs=None,\n",
      "              num_parallel_tree=None, random_state=None, ...)\n",
      "0.8907575270545376\n"
     ]
    }
   ],
   "source": [
    "xgbc = xgb.XGBClassifier()\n",
    "w2v_xgb_clf = GridSearchCV(estimator=xgbc, param_grid=xgb_params, cv=5, scoring='accuracy', verbose=1, n_jobs=-1)\n",
    "w2v_xgb_clf.fit(norm_w2v_X_trainval, w2v_y_trainval)\n",
    "print(w2v_xgb_clf.best_estimator_)\n",
    "print(w2v_xgb_clf.best_score_)"
   ]
  },
  {
   "cell_type": "code",
   "execution_count": 110,
   "id": "272d3e76",
   "metadata": {},
   "outputs": [],
   "source": [
    "def train_evaluate(train_X, train_y, valid_x, valid_y, model):\n",
    "    model = model.train(train_X, train_y)\n",
    "    y_pred = model.predict(valid_x)\n",
    "    classification_report(valid_y, y_pred, output_dict=True)\n",
    "    return model, classification_report"
   ]
  },
  {
   "cell_type": "code",
   "execution_count": null,
   "id": "d9c4c7f7",
   "metadata": {},
   "outputs": [],
   "source": [
    "# MLP"
   ]
  },
  {
   "cell_type": "code",
   "execution_count": null,
   "id": "2ac0284e",
   "metadata": {},
   "outputs": [],
   "source": [
    "# Plot feature importance graph"
   ]
  },
  {
   "cell_type": "code",
   "execution_count": null,
   "id": "abd758ea",
   "metadata": {},
   "outputs": [],
   "source": [
    "# Result on Test Set, classification report"
   ]
  },
  {
   "cell_type": "code",
   "execution_count": null,
   "id": "c7f35a3c",
   "metadata": {},
   "outputs": [],
   "source": [
    "# Plot results"
   ]
  },
  {
   "cell_type": "code",
   "execution_count": null,
   "id": "2c2fd619",
   "metadata": {},
   "outputs": [],
   "source": []
  }
 ],
 "metadata": {
  "kernelspec": {
   "display_name": "Python 3 (ipykernel)",
   "language": "python",
   "name": "python3"
  },
  "language_info": {
   "codemirror_mode": {
    "name": "ipython",
    "version": 3
   },
   "file_extension": ".py",
   "mimetype": "text/x-python",
   "name": "python",
   "nbconvert_exporter": "python",
   "pygments_lexer": "ipython3",
   "version": "3.11.5"
  }
 },
 "nbformat": 4,
 "nbformat_minor": 5
}
